{
 "cells": [
  {
   "cell_type": "markdown",
   "id": "38fc45f4",
   "metadata": {},
   "source": [
    "### Objetivos:\n",
    "\n",
    "* **Aplicar os algoritmos de aprendizado supervisionado para classificação (algoritmos SVC e KNN) ao conjunto de dados rotulados Titanic (disponível na plataforma Kaggle);**\n",
    "<br><br>\n",
    "* **Encontrar os melhores hiperparâmetros para cada um dos algoritmos de aprendizado supervisionado, utilizando o algoritmo Grid Search;**\n",
    "<br><br>\n",
    "* **Comparar os resultados obtidos por meio da validação cruzada, usando a classe KFold e a métrica de avaliação curva ROC-AUC;**\n",
    "<br><br>\n",
    "* **Justificar a escolha das melhores técnicas para o aprendizado supervisionado e os resultados obtidos nesse trabalho.**"
   ]
  },
  {
   "cell_type": "markdown",
   "id": "44f442d6",
   "metadata": {},
   "source": [
    "## 1 - Seleção e pré-processamento dos dados"
   ]
  },
  {
   "cell_type": "code",
   "execution_count": 1,
   "id": "a8d03da8",
   "metadata": {},
   "outputs": [],
   "source": [
    "# Importa algumas bibliotecas\n",
    "import pandas as pd\n",
    "import numpy as np\n",
    "import seaborn as sns\n",
    "import time\n",
    "from sklearn import svm\n",
    "from sklearn.neighbors import KNeighborsClassifier\n",
    "from sklearn.model_selection import GridSearchCV\n",
    "from sklearn.decomposition import PCA\n",
    "from sklearn.preprocessing import StandardScaler, LabelEncoder, OneHotEncoder\n",
    "\n",
    "# Importa as classes para plotar a curva ROC, separar os dados em treino e teste e fazer validação cruzada usando K-Fold\n",
    "from sklearn.metrics import RocCurveDisplay, roc_curve, accuracy_score\n",
    "from sklearn.model_selection import train_test_split, KFold\n",
    "import matplotlib.pyplot as plt\n",
    "\n",
    "# Ignora alguns avisos\n",
    "import warnings\n",
    "warnings.filterwarnings(\"ignore\")"
   ]
  },
  {
   "cell_type": "markdown",
   "id": "ce216151",
   "metadata": {},
   "source": [
    "### Classe para indexação --> Substitui valores contínuos contidos em intervalos pré-definidos por índices (valores discretos)"
   ]
  },
  {
   "cell_type": "code",
   "execution_count": 2,
   "id": "c74429a3",
   "metadata": {
    "scrolled": false
   },
   "outputs": [],
   "source": [
    "# Classe para indexação de conjuntos de valores contínuos\n",
    "class Indexacao_Coluna(): \n",
    "\n",
    "    # A seguinte função pode ser usada para substituir valores contínuos de uma coluna, divididos em intervalos, por índices. \n",
    "    # Quanto maior os valores extremos do intervalo, maior o valor do índice\n",
    "    def index_intervals_1(self, dataframe, column, interval_1, interval_2, include_upper = False):\n",
    "    \n",
    "        # A indexação inicia-se pelo valor 1\n",
    "        index = 1\n",
    "    \n",
    "        # Cria intervalos de valores e substitui, por um índice numérico, os intervalos de valores da coluna\n",
    "        for i, j in zip(np.arange(interval_1[0], interval_1[1], interval_1[2]), \n",
    "                        np.arange(interval_2[0], interval_2[1], interval_2[2])):\n",
    "            \n",
    "            # Se o programador quiser um intervalo (valor1, valor2]...\n",
    "            if include_upper == True:\n",
    "        \n",
    "            # Se o intervalo criado não apresentar valores continuos (apresentar valor NaN), não executará qualquer indexação\n",
    "                if dataframe.loc[dataframe[column].gt(i) & dataframe[column].le(j), column].empty:\n",
    "            \n",
    "                    pass\n",
    "        \n",
    "                # Caso contrário...\n",
    "                else:\n",
    "            \n",
    "                    # Faz a indexação, substituindo os valores da coluna pertencentes ao intervalo \n",
    "                    dataframe.loc[dataframe[column].gt(i) & dataframe[column].le(j), column] = index\n",
    "            \n",
    "                    # Soma 1 ao índice, preparando-o para a próxima indexação\n",
    "                    index += 1\n",
    "            \n",
    "            # Se o programador quiser um intervalo [valor1, valor2)...\n",
    "            else:\n",
    "                \n",
    "            # Se o intervalo criado não apresentar valores continuos (apresentar valor NaN), não executará qualquer indexação\n",
    "                if dataframe.loc[dataframe[column].ge(i) & dataframe[column].lt(j), column].empty:\n",
    "            \n",
    "                    pass\n",
    "        \n",
    "                # Caso contrário...\n",
    "                else:\n",
    "            \n",
    "                    # Faz a indexação, substituindo os valores da coluna pertencentes ao intervalo \n",
    "                    dataframe.loc[dataframe[column].ge(i) & dataframe[column].lt(j), column] = index\n",
    "            \n",
    "                    # Soma 1 ao índice, preparando-o para a próxima indexação\n",
    "                    index += 1\n",
    "                \n",
    "                \n",
    "\n",
    "            \n",
    "    # A seguinte função pode ser usada para substitui valores contínuos de uma coluna, divididos em intervalos, por índices. \n",
    "    # ascending = True --> Quanto maior a quantidade de valores dentro do intervalo, maior o valor do índice.\n",
    "    def index_intervals_2(self, dataframe, column, interval_1, interval_2, ascending = True):\n",
    "    \n",
    "    ############## Cria uma lista de dicionários com os itens qntd de valores no intervalo: intervalo de valores ##############\n",
    "    \n",
    "    \n",
    "        # Lista vazia para armazenar dicionários -> qntd de valores no intervalo (key): intervalo (value)\n",
    "        qntd_inter = []\n",
    "\n",
    "        # Cria intervalos de valores e substitui, por um índice numérico, os intervalos de valores da coluna\n",
    "        for i, j in zip(np.arange(interval_1[0], interval_1[1], interval_1[2]), \n",
    "                        np.arange(interval_2[0], interval_2[1], interval_2[2])):\n",
    "    \n",
    "            # Armazena a qntd de valores no intervalo\n",
    "            qntd_itens = len(dataframe.loc[dataframe[column].ge(i) & dataframe[column].lt(j), column])\n",
    "        \n",
    "            # Adiciona o dicionário na lista qntd_item\n",
    "            qntd_inter.append({qntd_itens: [i, j]})\n",
    "    \n",
    "        # Se o parâmetro ascending = True...\n",
    "        if ascending == True:\n",
    "        \n",
    "            # Organiza os dicionários pela quantidade de itens nos intervalos de valores\n",
    "            qntd_inter = sorted(qntd_inter, key=lambda d: list(d.keys()), reverse = False)\n",
    "\n",
    "    ########### Modificação dos dicionários - index (key): (qntd de itens, intervalo dos valores da coluna) (value) ###########\n",
    "\n",
    "        # A indexação inicia-se pelo valor 1\n",
    "        index = 1\n",
    "\n",
    "        # Captura cada valor de posição (index) dos dicionários e os próprios dicionários da lista qntd_inter, respec. \n",
    "        for i_lista, dictionary in enumerate(qntd_inter):\n",
    "    \n",
    "            # Armazena a key (qntd de valores no intervalo) e o value (intervalo) do dicionário selecionado pelo looping\n",
    "            key, value = list(dictionary.keys())[0], list(dictionary.values())[0]\n",
    "        \n",
    "            # Se a key for diferente de zero...\n",
    "            if key != 0:\n",
    "        \n",
    "                # Cria um novo dicionário, tranformando o valor da variável index em key e o novo value é a key e o value antigos\n",
    "                dictionary[index] = (key, dictionary.pop(key))     \n",
    "            \n",
    "                # Soma 1 ao índice, preparando-o para a próxima indexação\n",
    "                index += 1\n",
    "        \n",
    "                # Substitui o antigo dicionário selecionado da lista pelo looping pelo novo dicionário criado\n",
    "                qntd_inter[i_lista] = dictionary \n",
    "\n",
    "    ######## Cria uma lista com os índices atribuído aos valores, repetindo-os pela qntd de valores presentes no intervalo ####\n",
    "\n",
    "        print('index: (qntd de valores contínuos dentro do intervalo avaliado, intervalo avaliado):\\n')\n",
    "        print(qntd_inter)\n",
    "    \n",
    "        # Cria uma lista vazia para armazenar os índices repetidos, atribuídos aos valores dos intervalos\n",
    "        valores = []\n",
    "\n",
    "        # Captura cada dicionário na lista qntd_inter\n",
    "        for dictionary in qntd_inter:\n",
    "    \n",
    "            # Armazena a key e os values qntd de valores no intervalo e intervalo\n",
    "            key, qntd, value = list(dictionary.keys())[0], list(dictionary.values())[0][0], list(dictionary.values())[0][1]\n",
    "    \n",
    "            # Se a key for diferente de zero...\n",
    "            if key != 0:\n",
    "            \n",
    "                # Repete o índice do intervalo pelo cálculo: (índice) * (qntd de valores no intervalo) e adiciona à lista valores\n",
    "                valores += [key] * qntd\n",
    " \n",
    "\n",
    "        # Ordena os valores da coluna no dataframe, captura seus índices no dataframe e os armazena em uma lista\n",
    "        i_serie = dataframe[column].sort_values().index.tolist()\n",
    "\n",
    "        # Substitui todos os valores numéricos contínuos na coluna pelos seus respectivos índices gerados por essa função\n",
    "        dataframe.loc[i_serie, column] = valores"
   ]
  },
  {
   "cell_type": "code",
   "execution_count": 3,
   "id": "8bb13b7d",
   "metadata": {},
   "outputs": [],
   "source": [
    "# Nomes que serão dados às colunas na mesma ordem em que aparecem\n",
    "titanic_cols = [ 'ID', 'Sobrevivente', 'Classe', 'Nome', 'Sexo', 'Idade', 'EsposasEIrmas', \n",
    "                'Parentes', 'Passagem', 'Tarifa', 'Cabine', 'Embarque']"
   ]
  },
  {
   "cell_type": "code",
   "execution_count": 4,
   "id": "98487538",
   "metadata": {},
   "outputs": [],
   "source": [
    "# Carrega o arquivo que contém o conjunto de dados Titanic\n",
    "titanic_df_orig = pd.read_csv('Kaggle_Titanic\\\\train.csv', names = titanic_cols, header = 0)"
   ]
  },
  {
   "cell_type": "code",
   "execution_count": 5,
   "id": "a6a2fe64",
   "metadata": {},
   "outputs": [
    {
     "data": {
      "text/html": [
       "<div>\n",
       "<style scoped>\n",
       "    .dataframe tbody tr th:only-of-type {\n",
       "        vertical-align: middle;\n",
       "    }\n",
       "\n",
       "    .dataframe tbody tr th {\n",
       "        vertical-align: top;\n",
       "    }\n",
       "\n",
       "    .dataframe thead th {\n",
       "        text-align: right;\n",
       "    }\n",
       "</style>\n",
       "<table border=\"1\" class=\"dataframe\">\n",
       "  <thead>\n",
       "    <tr style=\"text-align: right;\">\n",
       "      <th></th>\n",
       "      <th>ID</th>\n",
       "      <th>Sobrevivente</th>\n",
       "      <th>Classe</th>\n",
       "      <th>Nome</th>\n",
       "      <th>Sexo</th>\n",
       "      <th>Idade</th>\n",
       "      <th>EsposasEIrmas</th>\n",
       "      <th>Parentes</th>\n",
       "      <th>Passagem</th>\n",
       "      <th>Tarifa</th>\n",
       "      <th>Cabine</th>\n",
       "      <th>Embarque</th>\n",
       "    </tr>\n",
       "  </thead>\n",
       "  <tbody>\n",
       "    <tr>\n",
       "      <th>0</th>\n",
       "      <td>1</td>\n",
       "      <td>0</td>\n",
       "      <td>3</td>\n",
       "      <td>Braund, Mr. Owen Harris</td>\n",
       "      <td>male</td>\n",
       "      <td>22.0</td>\n",
       "      <td>1</td>\n",
       "      <td>0</td>\n",
       "      <td>A/5 21171</td>\n",
       "      <td>7.2500</td>\n",
       "      <td>NaN</td>\n",
       "      <td>S</td>\n",
       "    </tr>\n",
       "    <tr>\n",
       "      <th>1</th>\n",
       "      <td>2</td>\n",
       "      <td>1</td>\n",
       "      <td>1</td>\n",
       "      <td>Cumings, Mrs. John Bradley (Florence Briggs Th...</td>\n",
       "      <td>female</td>\n",
       "      <td>38.0</td>\n",
       "      <td>1</td>\n",
       "      <td>0</td>\n",
       "      <td>PC 17599</td>\n",
       "      <td>71.2833</td>\n",
       "      <td>C85</td>\n",
       "      <td>C</td>\n",
       "    </tr>\n",
       "    <tr>\n",
       "      <th>2</th>\n",
       "      <td>3</td>\n",
       "      <td>1</td>\n",
       "      <td>3</td>\n",
       "      <td>Heikkinen, Miss. Laina</td>\n",
       "      <td>female</td>\n",
       "      <td>26.0</td>\n",
       "      <td>0</td>\n",
       "      <td>0</td>\n",
       "      <td>STON/O2. 3101282</td>\n",
       "      <td>7.9250</td>\n",
       "      <td>NaN</td>\n",
       "      <td>S</td>\n",
       "    </tr>\n",
       "    <tr>\n",
       "      <th>3</th>\n",
       "      <td>4</td>\n",
       "      <td>1</td>\n",
       "      <td>1</td>\n",
       "      <td>Futrelle, Mrs. Jacques Heath (Lily May Peel)</td>\n",
       "      <td>female</td>\n",
       "      <td>35.0</td>\n",
       "      <td>1</td>\n",
       "      <td>0</td>\n",
       "      <td>113803</td>\n",
       "      <td>53.1000</td>\n",
       "      <td>C123</td>\n",
       "      <td>S</td>\n",
       "    </tr>\n",
       "    <tr>\n",
       "      <th>4</th>\n",
       "      <td>5</td>\n",
       "      <td>0</td>\n",
       "      <td>3</td>\n",
       "      <td>Allen, Mr. William Henry</td>\n",
       "      <td>male</td>\n",
       "      <td>35.0</td>\n",
       "      <td>0</td>\n",
       "      <td>0</td>\n",
       "      <td>373450</td>\n",
       "      <td>8.0500</td>\n",
       "      <td>NaN</td>\n",
       "      <td>S</td>\n",
       "    </tr>\n",
       "  </tbody>\n",
       "</table>\n",
       "</div>"
      ],
      "text/plain": [
       "   ID  Sobrevivente  Classe  \\\n",
       "0   1             0       3   \n",
       "1   2             1       1   \n",
       "2   3             1       3   \n",
       "3   4             1       1   \n",
       "4   5             0       3   \n",
       "\n",
       "                                                Nome    Sexo  Idade  \\\n",
       "0                            Braund, Mr. Owen Harris    male   22.0   \n",
       "1  Cumings, Mrs. John Bradley (Florence Briggs Th...  female   38.0   \n",
       "2                             Heikkinen, Miss. Laina  female   26.0   \n",
       "3       Futrelle, Mrs. Jacques Heath (Lily May Peel)  female   35.0   \n",
       "4                           Allen, Mr. William Henry    male   35.0   \n",
       "\n",
       "   EsposasEIrmas  Parentes          Passagem   Tarifa Cabine Embarque  \n",
       "0              1         0         A/5 21171   7.2500    NaN        S  \n",
       "1              1         0          PC 17599  71.2833    C85        C  \n",
       "2              0         0  STON/O2. 3101282   7.9250    NaN        S  \n",
       "3              1         0            113803  53.1000   C123        S  \n",
       "4              0         0            373450   8.0500    NaN        S  "
      ]
     },
     "execution_count": 5,
     "metadata": {},
     "output_type": "execute_result"
    }
   ],
   "source": [
    "# Exibe as 5 primeiras linhas do dataframe titanic_df_orig\n",
    "titanic_df_orig.head()"
   ]
  },
  {
   "cell_type": "code",
   "execution_count": 6,
   "id": "6998fc42",
   "metadata": {},
   "outputs": [
    {
     "data": {
      "text/plain": [
       "(891, 12)"
      ]
     },
     "execution_count": 6,
     "metadata": {},
     "output_type": "execute_result"
    }
   ],
   "source": [
    "# Exibe a qntd de linhas e colunas do dataframe\n",
    "titanic_df_orig.shape"
   ]
  },
  {
   "cell_type": "code",
   "execution_count": 7,
   "id": "77572752",
   "metadata": {},
   "outputs": [],
   "source": [
    "# Faz uma cópia do dataframe titanic_df_orig\n",
    "titanic_df = titanic_df_orig.copy()"
   ]
  },
  {
   "cell_type": "markdown",
   "id": "efd77aed",
   "metadata": {},
   "source": [
    "**As colunas <font color='red'>Nome</font> e <font color='red'>ID</font> serão eliminadas mais a frente, pois essas colunas não possuem relevância para os trabalhos envolvendo *Machine Learning*.**"
   ]
  },
  {
   "cell_type": "markdown",
   "id": "b4747f00",
   "metadata": {},
   "source": [
    "### 1.1 - Atributo Sexo"
   ]
  },
  {
   "cell_type": "code",
   "execution_count": 8,
   "id": "194e1f12",
   "metadata": {},
   "outputs": [
    {
     "data": {
      "text/plain": [
       "male      577\n",
       "female    314\n",
       "Name: Sexo, dtype: int64"
      ]
     },
     "execution_count": 8,
     "metadata": {},
     "output_type": "execute_result"
    }
   ],
   "source": [
    "# Exibe os valores distintos na coluna Sexo e mostra a frequência de cada valor\n",
    "titanic_df['Sexo'].value_counts()"
   ]
  },
  {
   "cell_type": "code",
   "execution_count": 9,
   "id": "0c163e9f",
   "metadata": {},
   "outputs": [
    {
     "name": "stdout",
     "output_type": "stream",
     "text": [
      "Qntd de valores na coluna: 891\n",
      "Valores distintos: 2\n",
      "Valores NaN: 0\n"
     ]
    }
   ],
   "source": [
    "# Exibe a quantidade de valores na coluna Sexo, o número de elementos distintos na coluna e qntd de valores NaN\n",
    "print(f\"Qntd de valores na coluna: {len(titanic_df['Sexo'])}\")\n",
    "print(f\"Valores distintos: {titanic_df['Sexo'].nunique()}\")\n",
    "print(f\"Valores NaN: {titanic_df['Sexo'].isnull().sum()}\")"
   ]
  },
  {
   "cell_type": "code",
   "execution_count": 10,
   "id": "cd1462e2",
   "metadata": {},
   "outputs": [],
   "source": [
    "# Transformação de valores não numéricos para numéricos do atributo previsor Sexo\n",
    "labelecoder = LabelEncoder()\n",
    "titanic_df['Sexo'] = labelecoder.fit_transform(titanic_df['Sexo'])"
   ]
  },
  {
   "cell_type": "code",
   "execution_count": 11,
   "id": "b216fd4f",
   "metadata": {
    "scrolled": true
   },
   "outputs": [
    {
     "data": {
      "text/html": [
       "<div>\n",
       "<style scoped>\n",
       "    .dataframe tbody tr th:only-of-type {\n",
       "        vertical-align: middle;\n",
       "    }\n",
       "\n",
       "    .dataframe tbody tr th {\n",
       "        vertical-align: top;\n",
       "    }\n",
       "\n",
       "    .dataframe thead th {\n",
       "        text-align: right;\n",
       "    }\n",
       "</style>\n",
       "<table border=\"1\" class=\"dataframe\">\n",
       "  <thead>\n",
       "    <tr style=\"text-align: right;\">\n",
       "      <th></th>\n",
       "      <th>Sexo</th>\n",
       "      <th>Sobrevivente</th>\n",
       "    </tr>\n",
       "  </thead>\n",
       "  <tbody>\n",
       "    <tr>\n",
       "      <th>0</th>\n",
       "      <td>0</td>\n",
       "      <td>0.742038</td>\n",
       "    </tr>\n",
       "    <tr>\n",
       "      <th>1</th>\n",
       "      <td>1</td>\n",
       "      <td>0.188908</td>\n",
       "    </tr>\n",
       "  </tbody>\n",
       "</table>\n",
       "</div>"
      ],
      "text/plain": [
       "   Sexo  Sobrevivente\n",
       "0     0      0.742038\n",
       "1     1      0.188908"
      ]
     },
     "execution_count": 11,
     "metadata": {},
     "output_type": "execute_result"
    }
   ],
   "source": [
    "# Exibe a relação entre o sexo das pessoas e sobreviventes\n",
    "titanic_df[['Sexo', 'Sobrevivente']].groupby(['Sexo'], \n",
    "                                as_index=False).mean().sort_values(by='Sobrevivente', ascending=False)"
   ]
  },
  {
   "cell_type": "code",
   "execution_count": 12,
   "id": "e11ee750",
   "metadata": {},
   "outputs": [
    {
     "data": {
      "text/plain": [
       "array(['female', 'male'], dtype=object)"
      ]
     },
     "execution_count": 12,
     "metadata": {},
     "output_type": "execute_result"
    }
   ],
   "source": [
    "# Exibe o que significa cada valor gerado pelo LabelEncoder: 0 = female, 1 = male\n",
    "labelecoder.inverse_transform([0, 1])"
   ]
  },
  {
   "cell_type": "markdown",
   "id": "ee47c5ca",
   "metadata": {},
   "source": [
    "**Dentre todas as mulheres (valor 0) a bordo do navio, 74.20% sobreviveram ao naufrágio, enquanto que dentre todos os homens a bordo, apenas 18.89% sobreviveram.**"
   ]
  },
  {
   "cell_type": "markdown",
   "id": "767da45e",
   "metadata": {},
   "source": [
    "### 1.2 - Atributo Embarque"
   ]
  },
  {
   "cell_type": "code",
   "execution_count": 13,
   "id": "35f231ef",
   "metadata": {},
   "outputs": [
    {
     "data": {
      "text/plain": [
       "S    644\n",
       "C    168\n",
       "Q     77\n",
       "Name: Embarque, dtype: int64"
      ]
     },
     "execution_count": 13,
     "metadata": {},
     "output_type": "execute_result"
    }
   ],
   "source": [
    "# Exibe os valores distintos na coluna Embarque e mostra a frequência de cada valor\n",
    "titanic_df['Embarque'].value_counts()"
   ]
  },
  {
   "cell_type": "code",
   "execution_count": 14,
   "id": "d6fa53c5",
   "metadata": {},
   "outputs": [
    {
     "name": "stdout",
     "output_type": "stream",
     "text": [
      "Qntd de valores na coluna: 891\n",
      "Valores distintos: 3\n",
      "Valores NaN: 2\n"
     ]
    }
   ],
   "source": [
    "# Exibe a quantidade de valores na coluna Embarque, o número de elementos distintos na coluna e qntd de valores NaN\n",
    "print(f\"Qntd de valores na coluna: {len(titanic_df['Embarque'])}\")\n",
    "print(f\"Valores distintos: {titanic_df['Embarque'].nunique()}\")\n",
    "print(f\"Valores NaN: {titanic_df['Embarque'].isnull().sum()}\")"
   ]
  },
  {
   "cell_type": "markdown",
   "id": "8571486a",
   "metadata": {},
   "source": [
    "**Verifica-se a necessidade de preenchimento de 2 valores NaN presentes na coluna Embarque. A decisão tomada para essa tarefa é de preencher esses valores com os valores/siglas que mais aparecem na coluna: sigla S**"
   ]
  },
  {
   "cell_type": "code",
   "execution_count": 15,
   "id": "35f05af7",
   "metadata": {},
   "outputs": [],
   "source": [
    "# Substitui valores NaN, na coluna Embarque, pela sigla que mais aparece (S)\n",
    "titanic_df['Embarque'].fillna('S', inplace = True)"
   ]
  },
  {
   "cell_type": "markdown",
   "id": "1f7cd06c",
   "metadata": {},
   "source": [
    "**Devido a presença de valores categóricos na coluna Embarque, utilizou-se a classe LabelEncoder para transformação desses valores categóricos em numéricos discretos.**"
   ]
  },
  {
   "cell_type": "code",
   "execution_count": 16,
   "id": "b8ee738b",
   "metadata": {},
   "outputs": [],
   "source": [
    "# Transformação de valores não numéricos para numéricos do atributo previsor Embarque\n",
    "titanic_df['Embarque'] = labelecoder.fit_transform(titanic_df['Embarque'])"
   ]
  },
  {
   "cell_type": "code",
   "execution_count": 17,
   "id": "d2dea5ef",
   "metadata": {},
   "outputs": [
    {
     "data": {
      "text/plain": [
       "array(['C', 'Q', 'S'], dtype=object)"
      ]
     },
     "execution_count": 17,
     "metadata": {},
     "output_type": "execute_result"
    }
   ],
   "source": [
    "# Exibe o que significa cada valor gerado pelo LabelEncoder: 0 = C, 1 = Q, 2 = S\n",
    "labelecoder.inverse_transform([0, 1, 2])"
   ]
  },
  {
   "cell_type": "code",
   "execution_count": 18,
   "id": "1704c710",
   "metadata": {},
   "outputs": [
    {
     "data": {
      "text/html": [
       "<div>\n",
       "<style scoped>\n",
       "    .dataframe tbody tr th:only-of-type {\n",
       "        vertical-align: middle;\n",
       "    }\n",
       "\n",
       "    .dataframe tbody tr th {\n",
       "        vertical-align: top;\n",
       "    }\n",
       "\n",
       "    .dataframe thead th {\n",
       "        text-align: right;\n",
       "    }\n",
       "</style>\n",
       "<table border=\"1\" class=\"dataframe\">\n",
       "  <thead>\n",
       "    <tr style=\"text-align: right;\">\n",
       "      <th></th>\n",
       "      <th>Embarque</th>\n",
       "      <th>Sobrevivente</th>\n",
       "    </tr>\n",
       "  </thead>\n",
       "  <tbody>\n",
       "    <tr>\n",
       "      <th>0</th>\n",
       "      <td>0</td>\n",
       "      <td>0.553571</td>\n",
       "    </tr>\n",
       "    <tr>\n",
       "      <th>1</th>\n",
       "      <td>1</td>\n",
       "      <td>0.389610</td>\n",
       "    </tr>\n",
       "    <tr>\n",
       "      <th>2</th>\n",
       "      <td>2</td>\n",
       "      <td>0.339009</td>\n",
       "    </tr>\n",
       "  </tbody>\n",
       "</table>\n",
       "</div>"
      ],
      "text/plain": [
       "   Embarque  Sobrevivente\n",
       "0         0      0.553571\n",
       "1         1      0.389610\n",
       "2         2      0.339009"
      ]
     },
     "execution_count": 18,
     "metadata": {},
     "output_type": "execute_result"
    }
   ],
   "source": [
    "# Exibe a relação entre o embarque e sobreviventes\n",
    "titanic_df[['Embarque', 'Sobrevivente']].groupby(['Embarque'], \n",
    "                                as_index=False).mean().sort_values(by='Sobrevivente', ascending=False)"
   ]
  },
  {
   "cell_type": "markdown",
   "id": "6c9009cf",
   "metadata": {},
   "source": [
    "**A maior taxa de sobrevivência, quando avaliados os portos de embarque, é das pessoas que embarcaram pelo porto 0 (porto C) com taxa de 55.36%, seguido do porto 1 (porto Q) com taxa de 38.96% e, por último, porto 2 (porto S) com 33.90%**"
   ]
  },
  {
   "cell_type": "markdown",
   "id": "51470e6c",
   "metadata": {},
   "source": [
    "### 1.3 - Atributo Passagem"
   ]
  },
  {
   "cell_type": "code",
   "execution_count": 19,
   "id": "8dcd4ae2",
   "metadata": {
    "scrolled": true
   },
   "outputs": [
    {
     "data": {
      "text/plain": [
       "0             A/5 21171\n",
       "1              PC 17599\n",
       "2      STON/O2. 3101282\n",
       "3                113803\n",
       "4                373450\n",
       "             ...       \n",
       "886              211536\n",
       "887              112053\n",
       "888          W./C. 6607\n",
       "889              111369\n",
       "890              370376\n",
       "Name: Passagem, Length: 891, dtype: object"
      ]
     },
     "execution_count": 19,
     "metadata": {},
     "output_type": "execute_result"
    }
   ],
   "source": [
    "# Armazena todos os valores únicos presentes na coluna Passagem para uso na Classe OneHotEncoder\n",
    "# Essa variável armazena os nomes das colunas que a classe OneHotEncoder vai gerar com os valores discretos na coluna Passagem\n",
    "colunas_passagem = list(set(titanic_df['Passagem']))\n",
    "\n",
    "# Exibe os dados da coluna Passagem\n",
    "titanic_df['Passagem']"
   ]
  },
  {
   "cell_type": "markdown",
   "id": "89e7c1f7",
   "metadata": {},
   "source": [
    "**Pode-se verificar a necessidade de transformar os valores categóricos da coluna Passagem em numéricos discretos, uma vez que os algoritmos de *Machine Learning* não trabalham com dados desse tipo.**"
   ]
  },
  {
   "cell_type": "code",
   "execution_count": 20,
   "id": "9a251ec9",
   "metadata": {},
   "outputs": [],
   "source": [
    "# Transformação de valores não numéricos para numéricos do atributo previsor Passagem\n",
    "titanic_df['Passagem'] = labelecoder.fit_transform(titanic_df['Passagem'])"
   ]
  },
  {
   "cell_type": "code",
   "execution_count": 21,
   "id": "392defe5",
   "metadata": {},
   "outputs": [
    {
     "name": "stdout",
     "output_type": "stream",
     "text": [
      "Qntd de valores na coluna: 891\n",
      "Valor min-max: (0, 680)\n",
      "Valores distintos: 681\n",
      "Valores NaN: 0\n"
     ]
    }
   ],
   "source": [
    "# Exibe a quantidade de valores na coluna Passagem, valores máximo e mínimo, n° de elementos distintos e qntd de valores NaN\n",
    "print(f\"Qntd de valores na coluna: {len(titanic_df['Passagem'])}\")\n",
    "print(f\"Valor min-max: {titanic_df['Passagem'].min(), titanic_df['Passagem'].max()}\")\n",
    "print(f\"Valores distintos: {titanic_df['Passagem'].nunique()}\")\n",
    "print(f\"Valores NaN: {titanic_df['Passagem'].isnull().sum()}\")"
   ]
  },
  {
   "cell_type": "markdown",
   "id": "ba3e2769",
   "metadata": {},
   "source": [
    "**É nítida a necessidade de normalizar os dados ou de transformar os valores discretos em colunas, evitando que alguns atributos sejam tratados com maior relevância que outros pelos algoritmos de *Machine Learning*.**"
   ]
  },
  {
   "cell_type": "code",
   "execution_count": 22,
   "id": "2d657f7c",
   "metadata": {},
   "outputs": [
    {
     "name": "stdout",
     "output_type": "stream",
     "text": [
      "210\n"
     ]
    }
   ],
   "source": [
    "# Qntd de valores repetidos/duplicados na coluna Passagem\n",
    "print(titanic_df['Passagem'].duplicated().sum())"
   ]
  },
  {
   "cell_type": "code",
   "execution_count": 23,
   "id": "dfedb752",
   "metadata": {},
   "outputs": [
    {
     "data": {
      "text/plain": [
       "'23.6%'"
      ]
     },
     "execution_count": 23,
     "metadata": {},
     "output_type": "execute_result"
    }
   ],
   "source": [
    "# Exibe o percentual dos valores duplicados na coluna Passagem\n",
    "percentual_duplicadas = str(round((titanic_df['Passagem'].duplicated().sum() / len(titanic_df['Passagem']))*100, 1)) + '%'\n",
    "percentual_duplicadas"
   ]
  },
  {
   "cell_type": "markdown",
   "id": "dea6a207",
   "metadata": {},
   "source": [
    "**Foi decidido então, para a coluna <font color='red'>Passagem</font>, que a transformação de valores discretos em colunas é a melhor solução, uma vez que o intervalo de valores discretos distintos é relativamente grande. Apesar do aumento da dimensionalidade do conjunto de dados aumentar o custo computacional (maior tempo de processamento e aumento do consumo de memória para armazenamento dos dados), transformar os valores discretos em colunas facilitará o aprendizado dos modelos, gerando melhores resultados de acurácia, por exemplo.**"
   ]
  },
  {
   "cell_type": "code",
   "execution_count": 24,
   "id": "7d3b5c95",
   "metadata": {},
   "outputs": [],
   "source": [
    "# Transforma os valores discretos distintos em colunas\n",
    "onehotencoder = OneHotEncoder(sparse=False)\n",
    "titanic_df[colunas_passagem] = onehotencoder.fit_transform(titanic_df['Passagem'].values.reshape(-1, 1))\n",
    "titanic_df.drop(columns = 'Passagem', inplace = True)"
   ]
  },
  {
   "cell_type": "markdown",
   "id": "9988b9cb",
   "metadata": {},
   "source": [
    "### 1.4 - Atributo Tarifa"
   ]
  },
  {
   "cell_type": "code",
   "execution_count": 25,
   "id": "947dc3a0",
   "metadata": {},
   "outputs": [
    {
     "name": "stdout",
     "output_type": "stream",
     "text": [
      "Qntd de valores na coluna: 891\n",
      "Valor min-max: (0.0, 512.3292)\n",
      "Valores distintos: 248\n",
      "Valores NaN: 0\n"
     ]
    }
   ],
   "source": [
    "# Exibe a quantidade de valores na coluna Tarifa, valores máximo e mínimo, n° de elementos distintos e qntd de valores NaN\n",
    "print(f\"Qntd de valores na coluna: {len(titanic_df['Tarifa'])}\")\n",
    "print(f\"Valor min-max: {titanic_df['Tarifa'].min(), titanic_df['Tarifa'].max()}\")\n",
    "print(f\"Valores distintos: {titanic_df['Tarifa'].nunique()}\")\n",
    "print(f\"Valores NaN: {titanic_df['Tarifa'].isnull().sum()}\")"
   ]
  },
  {
   "cell_type": "code",
   "execution_count": 26,
   "id": "041fa91f",
   "metadata": {},
   "outputs": [
    {
     "data": {
      "text/html": [
       "<div>\n",
       "<style scoped>\n",
       "    .dataframe tbody tr th:only-of-type {\n",
       "        vertical-align: middle;\n",
       "    }\n",
       "\n",
       "    .dataframe tbody tr th {\n",
       "        vertical-align: top;\n",
       "    }\n",
       "\n",
       "    .dataframe thead th {\n",
       "        text-align: right;\n",
       "    }\n",
       "</style>\n",
       "<table border=\"1\" class=\"dataframe\">\n",
       "  <thead>\n",
       "    <tr style=\"text-align: right;\">\n",
       "      <th></th>\n",
       "      <th>Tarifa</th>\n",
       "      <th>Sobrevivente</th>\n",
       "    </tr>\n",
       "    <tr>\n",
       "      <th>Tarifa</th>\n",
       "      <th></th>\n",
       "      <th></th>\n",
       "    </tr>\n",
       "  </thead>\n",
       "  <tbody>\n",
       "    <tr>\n",
       "      <th>(120, 150]</th>\n",
       "      <td>137.360167</td>\n",
       "      <td>0.888889</td>\n",
       "    </tr>\n",
       "    <tr>\n",
       "      <th>(90, 120]</th>\n",
       "      <td>108.587716</td>\n",
       "      <td>0.789474</td>\n",
       "    </tr>\n",
       "    <tr>\n",
       "      <th>(150, 180]</th>\n",
       "      <td>155.146767</td>\n",
       "      <td>0.666667</td>\n",
       "    </tr>\n",
       "    <tr>\n",
       "      <th>(210, 240]</th>\n",
       "      <td>219.710189</td>\n",
       "      <td>0.666667</td>\n",
       "    </tr>\n",
       "    <tr>\n",
       "      <th>(240, 270]</th>\n",
       "      <td>258.973950</td>\n",
       "      <td>0.625000</td>\n",
       "    </tr>\n",
       "    <tr>\n",
       "      <th>(60, 90]</th>\n",
       "      <td>76.581858</td>\n",
       "      <td>0.600000</td>\n",
       "    </tr>\n",
       "    <tr>\n",
       "      <th>(30, 60]</th>\n",
       "      <td>42.801787</td>\n",
       "      <td>0.482143</td>\n",
       "    </tr>\n",
       "    <tr>\n",
       "      <th>(0, 30]</th>\n",
       "      <td>13.458611</td>\n",
       "      <td>0.319315</td>\n",
       "    </tr>\n",
       "    <tr>\n",
       "      <th>(180, 210]</th>\n",
       "      <td>NaN</td>\n",
       "      <td>NaN</td>\n",
       "    </tr>\n",
       "    <tr>\n",
       "      <th>(270, 300]</th>\n",
       "      <td>NaN</td>\n",
       "      <td>NaN</td>\n",
       "    </tr>\n",
       "    <tr>\n",
       "      <th>(300, 330]</th>\n",
       "      <td>NaN</td>\n",
       "      <td>NaN</td>\n",
       "    </tr>\n",
       "    <tr>\n",
       "      <th>(330, 360]</th>\n",
       "      <td>NaN</td>\n",
       "      <td>NaN</td>\n",
       "    </tr>\n",
       "    <tr>\n",
       "      <th>(360, 390]</th>\n",
       "      <td>NaN</td>\n",
       "      <td>NaN</td>\n",
       "    </tr>\n",
       "    <tr>\n",
       "      <th>(390, 420]</th>\n",
       "      <td>NaN</td>\n",
       "      <td>NaN</td>\n",
       "    </tr>\n",
       "    <tr>\n",
       "      <th>(420, 450]</th>\n",
       "      <td>NaN</td>\n",
       "      <td>NaN</td>\n",
       "    </tr>\n",
       "    <tr>\n",
       "      <th>(450, 480]</th>\n",
       "      <td>NaN</td>\n",
       "      <td>NaN</td>\n",
       "    </tr>\n",
       "    <tr>\n",
       "      <th>(480, 510]</th>\n",
       "      <td>NaN</td>\n",
       "      <td>NaN</td>\n",
       "    </tr>\n",
       "  </tbody>\n",
       "</table>\n",
       "</div>"
      ],
      "text/plain": [
       "                Tarifa  Sobrevivente\n",
       "Tarifa                              \n",
       "(120, 150]  137.360167      0.888889\n",
       "(90, 120]   108.587716      0.789474\n",
       "(150, 180]  155.146767      0.666667\n",
       "(210, 240]  219.710189      0.666667\n",
       "(240, 270]  258.973950      0.625000\n",
       "(60, 90]     76.581858      0.600000\n",
       "(30, 60]     42.801787      0.482143\n",
       "(0, 30]      13.458611      0.319315\n",
       "(180, 210]         NaN           NaN\n",
       "(270, 300]         NaN           NaN\n",
       "(300, 330]         NaN           NaN\n",
       "(330, 360]         NaN           NaN\n",
       "(360, 390]         NaN           NaN\n",
       "(390, 420]         NaN           NaN\n",
       "(420, 450]         NaN           NaN\n",
       "(450, 480]         NaN           NaN\n",
       "(480, 510]         NaN           NaN"
      ]
     },
     "execution_count": 26,
     "metadata": {},
     "output_type": "execute_result"
    }
   ],
   "source": [
    "# Exibe a relação entre a tarifa das passagens e sobreviventes\n",
    "titanic_df[['Tarifa', 'Sobrevivente']].groupby(pd.cut(titanic_df['Tarifa'], \n",
    "                                            np.arange(0, 520, 30))).mean().sort_values(by='Sobrevivente', ascending=False)\n"
   ]
  },
  {
   "cell_type": "markdown",
   "id": "1fe8b2a5",
   "metadata": {},
   "source": [
    "**De um modo geral, as pessoas que pagaram maiores tarifas para embarcar no navio apresentam maiores taxas de sobrevivência do que as pessoas que pagaram tarifas mais baratas.**\n",
    "<br><br>\n",
    "**A coluna <font color='red'>Tarifa</font> foi submetida à indexação dos seus valores contínuos. Cada intervalo de valores contínuos representava um valor discreto de índice, acarretando na transformação dos valores contínuos em discretos. Os índices gerados, acompanhados dos seus intervalos de valores foram 1 = [0, 20); 2 = [20, 40); ... 14 = [500, 520). Portanto, todos os valores contínuos na coluna foram substituídos por índices, respeitando os intervalos que cada valor contínuo pertence. Essa transformação levou a um melhor aprendizado do modelos de classificação usados nesse trabalho, gerando melhores valores de acurácia.**"
   ]
  },
  {
   "cell_type": "code",
   "execution_count": 27,
   "id": "2de4ab01",
   "metadata": {},
   "outputs": [],
   "source": [
    "# Transforma os valores contínuos em discretos por meio da indexação dos valores na coluna Tarifa\n",
    "I = Indexacao_Coluna()\n",
    "I.index_intervals_1(dataframe = titanic_df, column = 'Tarifa', interval_1 = [0, 520, 20], interval_2 = [20, 530, 20])"
   ]
  },
  {
   "cell_type": "markdown",
   "id": "2f491f91",
   "metadata": {},
   "source": [
    "### 1.5 - Atributo Cabine"
   ]
  },
  {
   "cell_type": "code",
   "execution_count": 28,
   "id": "19b0747e",
   "metadata": {},
   "outputs": [
    {
     "name": "stdout",
     "output_type": "stream",
     "text": [
      "Qntd de valores na coluna: 891\n",
      "Valores distintos: 147\n",
      "Valores NaN: 687\n"
     ]
    }
   ],
   "source": [
    "# Exibe a quantidade de valores na coluna Cabine, o número de elementos distintos na coluna e qntd de valores NaN\n",
    "print(f\"Qntd de valores na coluna: {len(titanic_df['Cabine'])}\")\n",
    "print(f\"Valores distintos: {titanic_df['Cabine'].nunique()}\")\n",
    "print(f\"Valores NaN: {titanic_df['Cabine'].isnull().sum()}\")"
   ]
  },
  {
   "cell_type": "code",
   "execution_count": 29,
   "id": "7a6f9eac",
   "metadata": {},
   "outputs": [
    {
     "name": "stdout",
     "output_type": "stream",
     "text": [
      "Percentual de valores NaN: 77.1 %\n"
     ]
    }
   ],
   "source": [
    "print(f\"Percentual de valores NaN: {round((titanic_df['Cabine'].isnull().sum() / len(titanic_df['Cabine']))*100, 2)} %\")"
   ]
  },
  {
   "cell_type": "code",
   "execution_count": 30,
   "id": "8be67568",
   "metadata": {
    "scrolled": true
   },
   "outputs": [
    {
     "data": {
      "text/plain": [
       "0       NaN\n",
       "1       C85\n",
       "2       NaN\n",
       "3      C123\n",
       "4       NaN\n",
       "       ... \n",
       "886     NaN\n",
       "887     B42\n",
       "888     NaN\n",
       "889    C148\n",
       "890     NaN\n",
       "Name: Cabine, Length: 891, dtype: object"
      ]
     },
     "execution_count": 30,
     "metadata": {},
     "output_type": "execute_result"
    }
   ],
   "source": [
    "# Exibe os dados da coluna 'Cabine'\n",
    "titanic_df['Cabine']"
   ]
  },
  {
   "cell_type": "markdown",
   "id": "fac8b5ef",
   "metadata": {},
   "source": [
    "**Devido à alta quantidade de valores NaN na coluna <font color='red'>Cabine</font>, a decisão tomada para essa coluna é de eliminá-la, ou seja, não utilizá-la no trabalho de *Machine Learning*. Utilizar qualquer tarefa de preenchimento de dados com a coluna na situação em que boa parte dos dados (77,1%) é composta por valores NaN acarretaria em inserir dados ruidosos nos modelos de *Machine Learning*, atrapalhando seus aprendizados. A eliminação da coluna acontecerá futuramente.**"
   ]
  },
  {
   "cell_type": "markdown",
   "id": "9d0d9770",
   "metadata": {},
   "source": [
    "### 1.6 - Atributo Classe"
   ]
  },
  {
   "cell_type": "code",
   "execution_count": 31,
   "id": "2ba1b787",
   "metadata": {},
   "outputs": [
    {
     "data": {
      "text/plain": [
       "3    491\n",
       "1    216\n",
       "2    184\n",
       "Name: Classe, dtype: int64"
      ]
     },
     "execution_count": 31,
     "metadata": {},
     "output_type": "execute_result"
    }
   ],
   "source": [
    "# Exibe os valores distintos na coluna Classe e mostra a frequência de cada valor\n",
    "titanic_df['Classe'].value_counts()"
   ]
  },
  {
   "cell_type": "code",
   "execution_count": 32,
   "id": "7d1ac449",
   "metadata": {},
   "outputs": [
    {
     "name": "stdout",
     "output_type": "stream",
     "text": [
      "Qntd de valores na coluna: 891\n",
      "Valores distintos: 3\n",
      "Valores NaN: 0\n"
     ]
    }
   ],
   "source": [
    "# Exibe a quantidade de valores na coluna Classe, o número de elementos distintos na coluna e qntd de valores NaN\n",
    "print(f\"Qntd de valores na coluna: {len(titanic_df['Classe'])}\")\n",
    "print(f\"Valores distintos: {titanic_df['Classe'].nunique()}\")\n",
    "print(f\"Valores NaN: {titanic_df['Classe'].isnull().sum()}\")"
   ]
  },
  {
   "cell_type": "code",
   "execution_count": 33,
   "id": "0482fce9",
   "metadata": {
    "scrolled": true
   },
   "outputs": [
    {
     "data": {
      "text/html": [
       "<div>\n",
       "<style scoped>\n",
       "    .dataframe tbody tr th:only-of-type {\n",
       "        vertical-align: middle;\n",
       "    }\n",
       "\n",
       "    .dataframe tbody tr th {\n",
       "        vertical-align: top;\n",
       "    }\n",
       "\n",
       "    .dataframe thead th {\n",
       "        text-align: right;\n",
       "    }\n",
       "</style>\n",
       "<table border=\"1\" class=\"dataframe\">\n",
       "  <thead>\n",
       "    <tr style=\"text-align: right;\">\n",
       "      <th></th>\n",
       "      <th>Classe</th>\n",
       "      <th>Sobrevivente</th>\n",
       "    </tr>\n",
       "  </thead>\n",
       "  <tbody>\n",
       "    <tr>\n",
       "      <th>0</th>\n",
       "      <td>1</td>\n",
       "      <td>0.629630</td>\n",
       "    </tr>\n",
       "    <tr>\n",
       "      <th>1</th>\n",
       "      <td>2</td>\n",
       "      <td>0.472826</td>\n",
       "    </tr>\n",
       "    <tr>\n",
       "      <th>2</th>\n",
       "      <td>3</td>\n",
       "      <td>0.242363</td>\n",
       "    </tr>\n",
       "  </tbody>\n",
       "</table>\n",
       "</div>"
      ],
      "text/plain": [
       "   Classe  Sobrevivente\n",
       "0       1      0.629630\n",
       "1       2      0.472826\n",
       "2       3      0.242363"
      ]
     },
     "execution_count": 33,
     "metadata": {},
     "output_type": "execute_result"
    }
   ],
   "source": [
    "# Exibe a relação entre a classe das passagens e sobreviventes\n",
    "titanic_df[['Classe', 'Sobrevivente']].groupby(['Classe'], \n",
    "                                as_index=False).mean().sort_values(by='Sobrevivente', ascending=False)"
   ]
  },
  {
   "cell_type": "markdown",
   "id": "502c2bde",
   "metadata": {},
   "source": [
    "**Há mais pessoas na classe 3 (491 pessoas), seguido da classe 1 (216) e 2 (184).** \n",
    "<br><br>\n",
    "**Quando avaliadas as pessoas dentro das mesmas classes, as pessoas da Classe 1 tem maior taxa de sobrevivência (62.96%), seguida da classe 2 (47.28%) e 3 (24.24%).**"
   ]
  },
  {
   "cell_type": "markdown",
   "id": "831050b1",
   "metadata": {},
   "source": [
    "### 1.7 - Atributo Idade"
   ]
  },
  {
   "cell_type": "code",
   "execution_count": 34,
   "id": "2bfd2e2b",
   "metadata": {},
   "outputs": [
    {
     "name": "stdout",
     "output_type": "stream",
     "text": [
      "Qntd de valores na coluna: 891\n",
      "Valor min-max: (0.42, 80.0)\n",
      "Valores distintos: 88\n",
      "Valores NaN: 177\n"
     ]
    }
   ],
   "source": [
    "# Exibe a quantidade de valores na coluna Idade, valores máximo e mínimo, n° de elementos distintos e qntd de valores NaN\n",
    "print(f\"Qntd de valores na coluna: {len(titanic_df['Idade'])}\")\n",
    "print(f\"Valor min-max: {titanic_df['Idade'].min(), titanic_df['Idade'].max()}\")\n",
    "print(f\"Valores distintos: {titanic_df['Idade'].nunique()}\")\n",
    "print(f\"Valores NaN: {titanic_df['Idade'].isnull().sum()}\")"
   ]
  },
  {
   "cell_type": "markdown",
   "id": "c54476eb",
   "metadata": {},
   "source": [
    "**O atributo <font color='red'>Idade</font> tem seus valores variando de 0,42 (fracionário para bebês menores de 1 ano de idade) a 80 anos. Os valores NaN de idade serão preenchidos com o auxílio do algoritmo de *Machine Learning* KNN, executado em uma seção mais a frente;**"
   ]
  },
  {
   "cell_type": "code",
   "execution_count": 35,
   "id": "2e8b0e52",
   "metadata": {},
   "outputs": [
    {
     "data": {
      "text/html": [
       "<div>\n",
       "<style scoped>\n",
       "    .dataframe tbody tr th:only-of-type {\n",
       "        vertical-align: middle;\n",
       "    }\n",
       "\n",
       "    .dataframe tbody tr th {\n",
       "        vertical-align: top;\n",
       "    }\n",
       "\n",
       "    .dataframe thead th {\n",
       "        text-align: right;\n",
       "    }\n",
       "</style>\n",
       "<table border=\"1\" class=\"dataframe\">\n",
       "  <thead>\n",
       "    <tr style=\"text-align: right;\">\n",
       "      <th></th>\n",
       "      <th>Idade</th>\n",
       "      <th>Sobrevivente</th>\n",
       "    </tr>\n",
       "    <tr>\n",
       "      <th>Idade</th>\n",
       "      <th></th>\n",
       "      <th></th>\n",
       "    </tr>\n",
       "  </thead>\n",
       "  <tbody>\n",
       "    <tr>\n",
       "      <th>(20, 25]</th>\n",
       "      <td>122</td>\n",
       "      <td>122</td>\n",
       "    </tr>\n",
       "    <tr>\n",
       "      <th>(25, 30]</th>\n",
       "      <td>108</td>\n",
       "      <td>108</td>\n",
       "    </tr>\n",
       "    <tr>\n",
       "      <th>(15, 20]</th>\n",
       "      <td>96</td>\n",
       "      <td>96</td>\n",
       "    </tr>\n",
       "    <tr>\n",
       "      <th>(30, 35]</th>\n",
       "      <td>88</td>\n",
       "      <td>88</td>\n",
       "    </tr>\n",
       "    <tr>\n",
       "      <th>(35, 40]</th>\n",
       "      <td>67</td>\n",
       "      <td>67</td>\n",
       "    </tr>\n",
       "    <tr>\n",
       "      <th>(40, 45]</th>\n",
       "      <td>47</td>\n",
       "      <td>47</td>\n",
       "    </tr>\n",
       "    <tr>\n",
       "      <th>(0, 5]</th>\n",
       "      <td>44</td>\n",
       "      <td>44</td>\n",
       "    </tr>\n",
       "    <tr>\n",
       "      <th>(45, 50]</th>\n",
       "      <td>39</td>\n",
       "      <td>39</td>\n",
       "    </tr>\n",
       "    <tr>\n",
       "      <th>(50, 55]</th>\n",
       "      <td>24</td>\n",
       "      <td>24</td>\n",
       "    </tr>\n",
       "    <tr>\n",
       "      <th>(5, 10]</th>\n",
       "      <td>20</td>\n",
       "      <td>20</td>\n",
       "    </tr>\n",
       "    <tr>\n",
       "      <th>(10, 15]</th>\n",
       "      <td>19</td>\n",
       "      <td>19</td>\n",
       "    </tr>\n",
       "    <tr>\n",
       "      <th>(55, 60]</th>\n",
       "      <td>18</td>\n",
       "      <td>18</td>\n",
       "    </tr>\n",
       "    <tr>\n",
       "      <th>(60, 65]</th>\n",
       "      <td>14</td>\n",
       "      <td>14</td>\n",
       "    </tr>\n",
       "    <tr>\n",
       "      <th>(70, 75]</th>\n",
       "      <td>4</td>\n",
       "      <td>4</td>\n",
       "    </tr>\n",
       "    <tr>\n",
       "      <th>(65, 70]</th>\n",
       "      <td>3</td>\n",
       "      <td>3</td>\n",
       "    </tr>\n",
       "    <tr>\n",
       "      <th>(75, 80]</th>\n",
       "      <td>1</td>\n",
       "      <td>1</td>\n",
       "    </tr>\n",
       "  </tbody>\n",
       "</table>\n",
       "</div>"
      ],
      "text/plain": [
       "          Idade  Sobrevivente\n",
       "Idade                        \n",
       "(20, 25]    122           122\n",
       "(25, 30]    108           108\n",
       "(15, 20]     96            96\n",
       "(30, 35]     88            88\n",
       "(35, 40]     67            67\n",
       "(40, 45]     47            47\n",
       "(0, 5]       44            44\n",
       "(45, 50]     39            39\n",
       "(50, 55]     24            24\n",
       "(5, 10]      20            20\n",
       "(10, 15]     19            19\n",
       "(55, 60]     18            18\n",
       "(60, 65]     14            14\n",
       "(70, 75]      4             4\n",
       "(65, 70]      3             3\n",
       "(75, 80]      1             1"
      ]
     },
     "execution_count": 35,
     "metadata": {},
     "output_type": "execute_result"
    }
   ],
   "source": [
    "# Exibe a contagem de valores para a relação entre a idade das pessoas e sobreviventes\n",
    "idade_sobrev = titanic_df[['Idade', 'Sobrevivente']].groupby(pd.cut(titanic_df['Idade'], \n",
    "                                                np.arange(0, 81, 5))).count().sort_values(by='Sobrevivente', ascending=False)\n",
    "\n",
    "idade_sobrev # Exibe todas as linhas do dataframe"
   ]
  },
  {
   "cell_type": "code",
   "execution_count": 36,
   "id": "dc3df149",
   "metadata": {
    "scrolled": true
   },
   "outputs": [
    {
     "data": {
      "text/html": [
       "<div>\n",
       "<style scoped>\n",
       "    .dataframe tbody tr th:only-of-type {\n",
       "        vertical-align: middle;\n",
       "    }\n",
       "\n",
       "    .dataframe tbody tr th {\n",
       "        vertical-align: top;\n",
       "    }\n",
       "\n",
       "    .dataframe thead th {\n",
       "        text-align: right;\n",
       "    }\n",
       "</style>\n",
       "<table border=\"1\" class=\"dataframe\">\n",
       "  <thead>\n",
       "    <tr style=\"text-align: right;\">\n",
       "      <th></th>\n",
       "      <th>Idade</th>\n",
       "      <th>Sobrevivente</th>\n",
       "    </tr>\n",
       "    <tr>\n",
       "      <th>Idade</th>\n",
       "      <th></th>\n",
       "      <th></th>\n",
       "    </tr>\n",
       "  </thead>\n",
       "  <tbody>\n",
       "    <tr>\n",
       "      <th>(75, 80]</th>\n",
       "      <td>80.000000</td>\n",
       "      <td>1.000000</td>\n",
       "    </tr>\n",
       "    <tr>\n",
       "      <th>(0, 5]</th>\n",
       "      <td>2.503864</td>\n",
       "      <td>0.704545</td>\n",
       "    </tr>\n",
       "    <tr>\n",
       "      <th>(10, 15]</th>\n",
       "      <td>13.447368</td>\n",
       "      <td>0.578947</td>\n",
       "    </tr>\n",
       "    <tr>\n",
       "      <th>(30, 35]</th>\n",
       "      <td>32.937500</td>\n",
       "      <td>0.465909</td>\n",
       "    </tr>\n",
       "    <tr>\n",
       "      <th>(35, 40]</th>\n",
       "      <td>37.828358</td>\n",
       "      <td>0.417910</td>\n",
       "    </tr>\n",
       "  </tbody>\n",
       "</table>\n",
       "</div>"
      ],
      "text/plain": [
       "              Idade  Sobrevivente\n",
       "Idade                            \n",
       "(75, 80]  80.000000      1.000000\n",
       "(0, 5]     2.503864      0.704545\n",
       "(10, 15]  13.447368      0.578947\n",
       "(30, 35]  32.937500      0.465909\n",
       "(35, 40]  37.828358      0.417910"
      ]
     },
     "execution_count": 36,
     "metadata": {},
     "output_type": "execute_result"
    }
   ],
   "source": [
    "# Exibe a relação entre a idade das pessoas e sobreviventes\n",
    "idade_sobrev = titanic_df[['Idade', 'Sobrevivente']].groupby(pd.cut(titanic_df['Idade'], \n",
    "                                                np.arange(0, 81, 5))).mean().sort_values(by='Sobrevivente', ascending=False)\n",
    "\n",
    "idade_sobrev.head(5) # Exibe as 5 primeiras linhas do dataframe"
   ]
  },
  {
   "cell_type": "code",
   "execution_count": 37,
   "id": "8ff9d8b6",
   "metadata": {},
   "outputs": [
    {
     "data": {
      "text/html": [
       "<div>\n",
       "<style scoped>\n",
       "    .dataframe tbody tr th:only-of-type {\n",
       "        vertical-align: middle;\n",
       "    }\n",
       "\n",
       "    .dataframe tbody tr th {\n",
       "        vertical-align: top;\n",
       "    }\n",
       "\n",
       "    .dataframe thead th {\n",
       "        text-align: right;\n",
       "    }\n",
       "</style>\n",
       "<table border=\"1\" class=\"dataframe\">\n",
       "  <thead>\n",
       "    <tr style=\"text-align: right;\">\n",
       "      <th></th>\n",
       "      <th>Idade</th>\n",
       "      <th>Sobrevivente</th>\n",
       "    </tr>\n",
       "    <tr>\n",
       "      <th>Idade</th>\n",
       "      <th></th>\n",
       "      <th></th>\n",
       "    </tr>\n",
       "  </thead>\n",
       "  <tbody>\n",
       "    <tr>\n",
       "      <th>(20, 25]</th>\n",
       "      <td>23.004098</td>\n",
       "      <td>0.344262</td>\n",
       "    </tr>\n",
       "    <tr>\n",
       "      <th>(15, 20]</th>\n",
       "      <td>18.083333</td>\n",
       "      <td>0.343750</td>\n",
       "    </tr>\n",
       "    <tr>\n",
       "      <th>(60, 65]</th>\n",
       "      <td>62.857143</td>\n",
       "      <td>0.285714</td>\n",
       "    </tr>\n",
       "    <tr>\n",
       "      <th>(65, 70]</th>\n",
       "      <td>68.666667</td>\n",
       "      <td>0.000000</td>\n",
       "    </tr>\n",
       "    <tr>\n",
       "      <th>(70, 75]</th>\n",
       "      <td>71.625000</td>\n",
       "      <td>0.000000</td>\n",
       "    </tr>\n",
       "  </tbody>\n",
       "</table>\n",
       "</div>"
      ],
      "text/plain": [
       "              Idade  Sobrevivente\n",
       "Idade                            \n",
       "(20, 25]  23.004098      0.344262\n",
       "(15, 20]  18.083333      0.343750\n",
       "(60, 65]  62.857143      0.285714\n",
       "(65, 70]  68.666667      0.000000\n",
       "(70, 75]  71.625000      0.000000"
      ]
     },
     "execution_count": 37,
     "metadata": {},
     "output_type": "execute_result"
    }
   ],
   "source": [
    "# Exibe a relação entre a idade das pessoas e sobreviventes\n",
    "idade_sobrev = titanic_df[['Idade', 'Sobrevivente']].groupby(pd.cut(titanic_df['Idade'], \n",
    "                                                np.arange(0, 81, 5))).mean().sort_values(by='Sobrevivente', ascending=False)\n",
    "\n",
    "idade_sobrev.tail(5) # Exibe as 5 últimas linhas do dataframe"
   ]
  },
  {
   "cell_type": "markdown",
   "id": "a50d2d3f",
   "metadata": {},
   "source": [
    "**O grupo de pessoas com maior taxa de sobrevivência corresponde as idades entre 0 e 5 anos, com 70.45%. A faixa de 75 a 80 anos não foi levada em conideração porque essa faixa apresenta apenas 1 pessoa a qual sobreviveu ao naufrágio.** \n",
    "<br><br>\n",
    "**Por sua vez, o grupo com menor taxa de sobrevivência apresenta idades entre 65 e 75 anos, com taxa de 0% de sobrevivência. De um modo geral, pessoais mais velhas, principalmente a partir de 60 anos de idade, tendem a apresentar uma menor taxa de sobrevivência.**"
   ]
  },
  {
   "cell_type": "markdown",
   "id": "1b7b6cd6",
   "metadata": {},
   "source": [
    "### 1.8 - Atributo Esposas e Irmãs"
   ]
  },
  {
   "cell_type": "code",
   "execution_count": 38,
   "id": "80524ef9",
   "metadata": {},
   "outputs": [
    {
     "name": "stdout",
     "output_type": "stream",
     "text": [
      "Qntd de valores na coluna: 891\n",
      "Valor min-max: (0, 8)\n",
      "Valores distintos: 7\n",
      "Valores NaN: 0\n"
     ]
    }
   ],
   "source": [
    "# Exibe a qntd de valores na coluna Esposas e Irmãs, valores máximo e mínimo, n° de elementos distintos e qntd de valores NaN\n",
    "print(f\"Qntd de valores na coluna: {len(titanic_df['EsposasEIrmas'])}\")\n",
    "print(f\"Valor min-max: {titanic_df['EsposasEIrmas'].min(), titanic_df['EsposasEIrmas'].max()}\")\n",
    "print(f\"Valores distintos: {titanic_df['EsposasEIrmas'].nunique()}\")\n",
    "print(f\"Valores NaN: {titanic_df['EsposasEIrmas'].isnull().sum()}\")"
   ]
  },
  {
   "cell_type": "markdown",
   "id": "79a8edff",
   "metadata": {},
   "source": [
    "**A quantidade de <font color='red'>Esposas e Irmãs</font> possui uma amplitude relativamente pequena, com um valor máximo menor que 10.**"
   ]
  },
  {
   "cell_type": "code",
   "execution_count": 39,
   "id": "b50467e4",
   "metadata": {},
   "outputs": [
    {
     "data": {
      "text/html": [
       "<div>\n",
       "<style scoped>\n",
       "    .dataframe tbody tr th:only-of-type {\n",
       "        vertical-align: middle;\n",
       "    }\n",
       "\n",
       "    .dataframe tbody tr th {\n",
       "        vertical-align: top;\n",
       "    }\n",
       "\n",
       "    .dataframe thead th {\n",
       "        text-align: right;\n",
       "    }\n",
       "</style>\n",
       "<table border=\"1\" class=\"dataframe\">\n",
       "  <thead>\n",
       "    <tr style=\"text-align: right;\">\n",
       "      <th></th>\n",
       "      <th>EsposasEIrmas</th>\n",
       "      <th>Sobrevivente</th>\n",
       "    </tr>\n",
       "  </thead>\n",
       "  <tbody>\n",
       "    <tr>\n",
       "      <th>1</th>\n",
       "      <td>1</td>\n",
       "      <td>0.535885</td>\n",
       "    </tr>\n",
       "    <tr>\n",
       "      <th>2</th>\n",
       "      <td>2</td>\n",
       "      <td>0.464286</td>\n",
       "    </tr>\n",
       "    <tr>\n",
       "      <th>0</th>\n",
       "      <td>0</td>\n",
       "      <td>0.345395</td>\n",
       "    </tr>\n",
       "    <tr>\n",
       "      <th>3</th>\n",
       "      <td>3</td>\n",
       "      <td>0.250000</td>\n",
       "    </tr>\n",
       "    <tr>\n",
       "      <th>4</th>\n",
       "      <td>4</td>\n",
       "      <td>0.166667</td>\n",
       "    </tr>\n",
       "    <tr>\n",
       "      <th>5</th>\n",
       "      <td>5</td>\n",
       "      <td>0.000000</td>\n",
       "    </tr>\n",
       "    <tr>\n",
       "      <th>6</th>\n",
       "      <td>8</td>\n",
       "      <td>0.000000</td>\n",
       "    </tr>\n",
       "  </tbody>\n",
       "</table>\n",
       "</div>"
      ],
      "text/plain": [
       "   EsposasEIrmas  Sobrevivente\n",
       "1              1      0.535885\n",
       "2              2      0.464286\n",
       "0              0      0.345395\n",
       "3              3      0.250000\n",
       "4              4      0.166667\n",
       "5              5      0.000000\n",
       "6              8      0.000000"
      ]
     },
     "execution_count": 39,
     "metadata": {},
     "output_type": "execute_result"
    }
   ],
   "source": [
    "# Exibe a relação entre a qntd de esposa + irmãs e sobreviventes\n",
    "titanic_df[['EsposasEIrmas', 'Sobrevivente']].groupby(['EsposasEIrmas'], \n",
    "                                                 as_index=False).mean().sort_values(by='Sobrevivente', ascending=False)"
   ]
  },
  {
   "cell_type": "markdown",
   "id": "6af41110",
   "metadata": {},
   "source": [
    "**Existe uma tendência de quanto maior o número de esposasEIrmãs, menor a taxa de sobrevivência. Enquanto a taxa para 1 Esposa ou Irmã é de 53.59%, a taxa para 8 Esposa + irmãs é de 0%**"
   ]
  },
  {
   "cell_type": "markdown",
   "id": "d9530d64",
   "metadata": {},
   "source": [
    "### 1.9 - Atributo Parentes"
   ]
  },
  {
   "cell_type": "code",
   "execution_count": 40,
   "id": "bd7175cc",
   "metadata": {},
   "outputs": [
    {
     "name": "stdout",
     "output_type": "stream",
     "text": [
      "Qntd de valores na coluna: 891\n",
      "Valor min-max: (0, 6)\n",
      "Valores distintos: 7\n",
      "Valores NaN: 0\n"
     ]
    }
   ],
   "source": [
    "# Exibe a qntd de valores na coluna Parentes, valores máximo e mínimo, n° de elementos distintos e qntd de valores NaN\n",
    "print(f\"Qntd de valores na coluna: {len(titanic_df['Parentes'])}\")\n",
    "print(f\"Valor min-max: {titanic_df['Parentes'].min(), titanic_df['Parentes'].max()}\")\n",
    "print(f\"Valores distintos: {titanic_df['Parentes'].nunique()}\")\n",
    "print(f\"Valores NaN: {titanic_df['Parentes'].isnull().sum()}\")"
   ]
  },
  {
   "cell_type": "markdown",
   "id": "ff0f11f0",
   "metadata": {},
   "source": [
    "**A quantidade de <font color='red'>Parentes</font> possui uma amplitude relativamente pequena, com um valor máximo igual a 6.**"
   ]
  },
  {
   "cell_type": "code",
   "execution_count": 41,
   "id": "d74f63b8",
   "metadata": {
    "scrolled": true
   },
   "outputs": [
    {
     "data": {
      "text/html": [
       "<div>\n",
       "<style scoped>\n",
       "    .dataframe tbody tr th:only-of-type {\n",
       "        vertical-align: middle;\n",
       "    }\n",
       "\n",
       "    .dataframe tbody tr th {\n",
       "        vertical-align: top;\n",
       "    }\n",
       "\n",
       "    .dataframe thead th {\n",
       "        text-align: right;\n",
       "    }\n",
       "</style>\n",
       "<table border=\"1\" class=\"dataframe\">\n",
       "  <thead>\n",
       "    <tr style=\"text-align: right;\">\n",
       "      <th></th>\n",
       "      <th>Parentes</th>\n",
       "      <th>Sobrevivente</th>\n",
       "    </tr>\n",
       "  </thead>\n",
       "  <tbody>\n",
       "    <tr>\n",
       "      <th>3</th>\n",
       "      <td>3</td>\n",
       "      <td>0.600000</td>\n",
       "    </tr>\n",
       "    <tr>\n",
       "      <th>1</th>\n",
       "      <td>1</td>\n",
       "      <td>0.550847</td>\n",
       "    </tr>\n",
       "    <tr>\n",
       "      <th>2</th>\n",
       "      <td>2</td>\n",
       "      <td>0.500000</td>\n",
       "    </tr>\n",
       "    <tr>\n",
       "      <th>0</th>\n",
       "      <td>0</td>\n",
       "      <td>0.343658</td>\n",
       "    </tr>\n",
       "    <tr>\n",
       "      <th>5</th>\n",
       "      <td>5</td>\n",
       "      <td>0.200000</td>\n",
       "    </tr>\n",
       "    <tr>\n",
       "      <th>4</th>\n",
       "      <td>4</td>\n",
       "      <td>0.000000</td>\n",
       "    </tr>\n",
       "    <tr>\n",
       "      <th>6</th>\n",
       "      <td>6</td>\n",
       "      <td>0.000000</td>\n",
       "    </tr>\n",
       "  </tbody>\n",
       "</table>\n",
       "</div>"
      ],
      "text/plain": [
       "   Parentes  Sobrevivente\n",
       "3         3      0.600000\n",
       "1         1      0.550847\n",
       "2         2      0.500000\n",
       "0         0      0.343658\n",
       "5         5      0.200000\n",
       "4         4      0.000000\n",
       "6         6      0.000000"
      ]
     },
     "execution_count": 41,
     "metadata": {},
     "output_type": "execute_result"
    }
   ],
   "source": [
    "# Exibe a relação entre a qntd de parentes das pessoas e sobreviventes\n",
    "titanic_df[['Parentes', 'Sobrevivente']].groupby(['Parentes'], \n",
    "                                                 as_index=False).mean().sort_values(by='Sobrevivente', ascending=False)"
   ]
  },
  {
   "cell_type": "markdown",
   "id": "d75312de",
   "metadata": {},
   "source": [
    "**A relação entre n° de parentes e sobreviventes não é tão clara, onde 3 parentes implica em uma taxa de sobrevivência de 60%, 1 parente implica em uma taxa de 55.08%, 2 parentes em taxa de 50%, 0 parente em taxa de 34.36%, etc.**"
   ]
  },
  {
   "cell_type": "code",
   "execution_count": 42,
   "id": "4b1392fb",
   "metadata": {},
   "outputs": [
    {
     "data": {
      "text/html": [
       "<div>\n",
       "<style scoped>\n",
       "    .dataframe tbody tr th:only-of-type {\n",
       "        vertical-align: middle;\n",
       "    }\n",
       "\n",
       "    .dataframe tbody tr th {\n",
       "        vertical-align: top;\n",
       "    }\n",
       "\n",
       "    .dataframe thead th {\n",
       "        text-align: right;\n",
       "    }\n",
       "</style>\n",
       "<table border=\"1\" class=\"dataframe\">\n",
       "  <thead>\n",
       "    <tr style=\"text-align: right;\">\n",
       "      <th></th>\n",
       "      <th>ID</th>\n",
       "      <th>Sobrevivente</th>\n",
       "      <th>Classe</th>\n",
       "      <th>Idade</th>\n",
       "      <th>EsposasEIrmas</th>\n",
       "      <th>Parentes</th>\n",
       "      <th>Tarifa</th>\n",
       "    </tr>\n",
       "  </thead>\n",
       "  <tbody>\n",
       "    <tr>\n",
       "      <th>count</th>\n",
       "      <td>891.000000</td>\n",
       "      <td>891.000000</td>\n",
       "      <td>891.000000</td>\n",
       "      <td>714.000000</td>\n",
       "      <td>891.000000</td>\n",
       "      <td>891.000000</td>\n",
       "      <td>891.000000</td>\n",
       "    </tr>\n",
       "    <tr>\n",
       "      <th>mean</th>\n",
       "      <td>446.000000</td>\n",
       "      <td>0.383838</td>\n",
       "      <td>2.308642</td>\n",
       "      <td>29.699118</td>\n",
       "      <td>0.523008</td>\n",
       "      <td>0.381594</td>\n",
       "      <td>32.204208</td>\n",
       "    </tr>\n",
       "    <tr>\n",
       "      <th>std</th>\n",
       "      <td>257.353842</td>\n",
       "      <td>0.486592</td>\n",
       "      <td>0.836071</td>\n",
       "      <td>14.526497</td>\n",
       "      <td>1.102743</td>\n",
       "      <td>0.806057</td>\n",
       "      <td>49.693429</td>\n",
       "    </tr>\n",
       "    <tr>\n",
       "      <th>min</th>\n",
       "      <td>1.000000</td>\n",
       "      <td>0.000000</td>\n",
       "      <td>1.000000</td>\n",
       "      <td>0.420000</td>\n",
       "      <td>0.000000</td>\n",
       "      <td>0.000000</td>\n",
       "      <td>0.000000</td>\n",
       "    </tr>\n",
       "    <tr>\n",
       "      <th>25%</th>\n",
       "      <td>223.500000</td>\n",
       "      <td>0.000000</td>\n",
       "      <td>2.000000</td>\n",
       "      <td>20.125000</td>\n",
       "      <td>0.000000</td>\n",
       "      <td>0.000000</td>\n",
       "      <td>7.910400</td>\n",
       "    </tr>\n",
       "    <tr>\n",
       "      <th>50%</th>\n",
       "      <td>446.000000</td>\n",
       "      <td>0.000000</td>\n",
       "      <td>3.000000</td>\n",
       "      <td>28.000000</td>\n",
       "      <td>0.000000</td>\n",
       "      <td>0.000000</td>\n",
       "      <td>14.454200</td>\n",
       "    </tr>\n",
       "    <tr>\n",
       "      <th>75%</th>\n",
       "      <td>668.500000</td>\n",
       "      <td>1.000000</td>\n",
       "      <td>3.000000</td>\n",
       "      <td>38.000000</td>\n",
       "      <td>1.000000</td>\n",
       "      <td>0.000000</td>\n",
       "      <td>31.000000</td>\n",
       "    </tr>\n",
       "    <tr>\n",
       "      <th>max</th>\n",
       "      <td>891.000000</td>\n",
       "      <td>1.000000</td>\n",
       "      <td>3.000000</td>\n",
       "      <td>80.000000</td>\n",
       "      <td>8.000000</td>\n",
       "      <td>6.000000</td>\n",
       "      <td>512.329200</td>\n",
       "    </tr>\n",
       "  </tbody>\n",
       "</table>\n",
       "</div>"
      ],
      "text/plain": [
       "               ID  Sobrevivente      Classe       Idade  EsposasEIrmas  \\\n",
       "count  891.000000    891.000000  891.000000  714.000000     891.000000   \n",
       "mean   446.000000      0.383838    2.308642   29.699118       0.523008   \n",
       "std    257.353842      0.486592    0.836071   14.526497       1.102743   \n",
       "min      1.000000      0.000000    1.000000    0.420000       0.000000   \n",
       "25%    223.500000      0.000000    2.000000   20.125000       0.000000   \n",
       "50%    446.000000      0.000000    3.000000   28.000000       0.000000   \n",
       "75%    668.500000      1.000000    3.000000   38.000000       1.000000   \n",
       "max    891.000000      1.000000    3.000000   80.000000       8.000000   \n",
       "\n",
       "         Parentes      Tarifa  \n",
       "count  891.000000  891.000000  \n",
       "mean     0.381594   32.204208  \n",
       "std      0.806057   49.693429  \n",
       "min      0.000000    0.000000  \n",
       "25%      0.000000    7.910400  \n",
       "50%      0.000000   14.454200  \n",
       "75%      0.000000   31.000000  \n",
       "max      6.000000  512.329200  "
      ]
     },
     "execution_count": 42,
     "metadata": {},
     "output_type": "execute_result"
    }
   ],
   "source": [
    "# Dados originais -- Contabiliza a qntd de instâncias não-nulas (count), a média dos valores (mean), o desvio padrão (std), \n",
    "# o valor mínimo (min), o valor máximo (max) e as distribuições (quartis) de 25%, 50% e 75%\n",
    "titanic_df_orig.describe()"
   ]
  },
  {
   "cell_type": "code",
   "execution_count": 43,
   "id": "db7f4630",
   "metadata": {},
   "outputs": [
    {
     "data": {
      "text/html": [
       "<div>\n",
       "<style scoped>\n",
       "    .dataframe tbody tr th:only-of-type {\n",
       "        vertical-align: middle;\n",
       "    }\n",
       "\n",
       "    .dataframe tbody tr th {\n",
       "        vertical-align: top;\n",
       "    }\n",
       "\n",
       "    .dataframe thead th {\n",
       "        text-align: right;\n",
       "    }\n",
       "</style>\n",
       "<table border=\"1\" class=\"dataframe\">\n",
       "  <thead>\n",
       "    <tr style=\"text-align: right;\">\n",
       "      <th></th>\n",
       "      <th>ID</th>\n",
       "      <th>Sobrevivente</th>\n",
       "      <th>Classe</th>\n",
       "      <th>Sexo</th>\n",
       "      <th>Idade</th>\n",
       "      <th>EsposasEIrmas</th>\n",
       "      <th>Parentes</th>\n",
       "      <th>Tarifa</th>\n",
       "      <th>Embarque</th>\n",
       "      <th>113514</th>\n",
       "      <th>...</th>\n",
       "      <th>36973</th>\n",
       "      <th>19972</th>\n",
       "      <th>349216</th>\n",
       "      <th>C 7076</th>\n",
       "      <th>113059</th>\n",
       "      <th>SC/Paris 2123</th>\n",
       "      <th>2693</th>\n",
       "      <th>PC 17760</th>\n",
       "      <th>13507</th>\n",
       "      <th>11771</th>\n",
       "    </tr>\n",
       "  </thead>\n",
       "  <tbody>\n",
       "    <tr>\n",
       "      <th>count</th>\n",
       "      <td>891.000000</td>\n",
       "      <td>891.000000</td>\n",
       "      <td>891.000000</td>\n",
       "      <td>891.000000</td>\n",
       "      <td>714.000000</td>\n",
       "      <td>891.000000</td>\n",
       "      <td>891.000000</td>\n",
       "      <td>891.000000</td>\n",
       "      <td>891.000000</td>\n",
       "      <td>891.000000</td>\n",
       "      <td>...</td>\n",
       "      <td>891.000000</td>\n",
       "      <td>891.000000</td>\n",
       "      <td>891.000000</td>\n",
       "      <td>891.000000</td>\n",
       "      <td>891.000000</td>\n",
       "      <td>891.000000</td>\n",
       "      <td>891.000000</td>\n",
       "      <td>891.000000</td>\n",
       "      <td>891.000000</td>\n",
       "      <td>891.000000</td>\n",
       "    </tr>\n",
       "    <tr>\n",
       "      <th>mean</th>\n",
       "      <td>446.000000</td>\n",
       "      <td>0.383838</td>\n",
       "      <td>2.308642</td>\n",
       "      <td>0.647587</td>\n",
       "      <td>29.699118</td>\n",
       "      <td>0.523008</td>\n",
       "      <td>0.381594</td>\n",
       "      <td>2.074074</td>\n",
       "      <td>1.536476</td>\n",
       "      <td>0.003367</td>\n",
       "      <td>...</td>\n",
       "      <td>0.001122</td>\n",
       "      <td>0.001122</td>\n",
       "      <td>0.001122</td>\n",
       "      <td>0.001122</td>\n",
       "      <td>0.002245</td>\n",
       "      <td>0.004489</td>\n",
       "      <td>0.001122</td>\n",
       "      <td>0.001122</td>\n",
       "      <td>0.001122</td>\n",
       "      <td>0.002245</td>\n",
       "    </tr>\n",
       "    <tr>\n",
       "      <th>std</th>\n",
       "      <td>257.353842</td>\n",
       "      <td>0.486592</td>\n",
       "      <td>0.836071</td>\n",
       "      <td>0.477990</td>\n",
       "      <td>14.526497</td>\n",
       "      <td>1.102743</td>\n",
       "      <td>0.806057</td>\n",
       "      <td>2.079086</td>\n",
       "      <td>0.791503</td>\n",
       "      <td>0.057961</td>\n",
       "      <td>...</td>\n",
       "      <td>0.033501</td>\n",
       "      <td>0.033501</td>\n",
       "      <td>0.033501</td>\n",
       "      <td>0.033501</td>\n",
       "      <td>0.047351</td>\n",
       "      <td>0.066890</td>\n",
       "      <td>0.033501</td>\n",
       "      <td>0.033501</td>\n",
       "      <td>0.033501</td>\n",
       "      <td>0.047351</td>\n",
       "    </tr>\n",
       "    <tr>\n",
       "      <th>min</th>\n",
       "      <td>1.000000</td>\n",
       "      <td>0.000000</td>\n",
       "      <td>1.000000</td>\n",
       "      <td>0.000000</td>\n",
       "      <td>0.420000</td>\n",
       "      <td>0.000000</td>\n",
       "      <td>0.000000</td>\n",
       "      <td>1.000000</td>\n",
       "      <td>0.000000</td>\n",
       "      <td>0.000000</td>\n",
       "      <td>...</td>\n",
       "      <td>0.000000</td>\n",
       "      <td>0.000000</td>\n",
       "      <td>0.000000</td>\n",
       "      <td>0.000000</td>\n",
       "      <td>0.000000</td>\n",
       "      <td>0.000000</td>\n",
       "      <td>0.000000</td>\n",
       "      <td>0.000000</td>\n",
       "      <td>0.000000</td>\n",
       "      <td>0.000000</td>\n",
       "    </tr>\n",
       "    <tr>\n",
       "      <th>25%</th>\n",
       "      <td>223.500000</td>\n",
       "      <td>0.000000</td>\n",
       "      <td>2.000000</td>\n",
       "      <td>0.000000</td>\n",
       "      <td>20.125000</td>\n",
       "      <td>0.000000</td>\n",
       "      <td>0.000000</td>\n",
       "      <td>1.000000</td>\n",
       "      <td>1.000000</td>\n",
       "      <td>0.000000</td>\n",
       "      <td>...</td>\n",
       "      <td>0.000000</td>\n",
       "      <td>0.000000</td>\n",
       "      <td>0.000000</td>\n",
       "      <td>0.000000</td>\n",
       "      <td>0.000000</td>\n",
       "      <td>0.000000</td>\n",
       "      <td>0.000000</td>\n",
       "      <td>0.000000</td>\n",
       "      <td>0.000000</td>\n",
       "      <td>0.000000</td>\n",
       "    </tr>\n",
       "    <tr>\n",
       "      <th>50%</th>\n",
       "      <td>446.000000</td>\n",
       "      <td>0.000000</td>\n",
       "      <td>3.000000</td>\n",
       "      <td>1.000000</td>\n",
       "      <td>28.000000</td>\n",
       "      <td>0.000000</td>\n",
       "      <td>0.000000</td>\n",
       "      <td>1.000000</td>\n",
       "      <td>2.000000</td>\n",
       "      <td>0.000000</td>\n",
       "      <td>...</td>\n",
       "      <td>0.000000</td>\n",
       "      <td>0.000000</td>\n",
       "      <td>0.000000</td>\n",
       "      <td>0.000000</td>\n",
       "      <td>0.000000</td>\n",
       "      <td>0.000000</td>\n",
       "      <td>0.000000</td>\n",
       "      <td>0.000000</td>\n",
       "      <td>0.000000</td>\n",
       "      <td>0.000000</td>\n",
       "    </tr>\n",
       "    <tr>\n",
       "      <th>75%</th>\n",
       "      <td>668.500000</td>\n",
       "      <td>1.000000</td>\n",
       "      <td>3.000000</td>\n",
       "      <td>1.000000</td>\n",
       "      <td>38.000000</td>\n",
       "      <td>1.000000</td>\n",
       "      <td>0.000000</td>\n",
       "      <td>2.000000</td>\n",
       "      <td>2.000000</td>\n",
       "      <td>0.000000</td>\n",
       "      <td>...</td>\n",
       "      <td>0.000000</td>\n",
       "      <td>0.000000</td>\n",
       "      <td>0.000000</td>\n",
       "      <td>0.000000</td>\n",
       "      <td>0.000000</td>\n",
       "      <td>0.000000</td>\n",
       "      <td>0.000000</td>\n",
       "      <td>0.000000</td>\n",
       "      <td>0.000000</td>\n",
       "      <td>0.000000</td>\n",
       "    </tr>\n",
       "    <tr>\n",
       "      <th>max</th>\n",
       "      <td>891.000000</td>\n",
       "      <td>1.000000</td>\n",
       "      <td>3.000000</td>\n",
       "      <td>1.000000</td>\n",
       "      <td>80.000000</td>\n",
       "      <td>8.000000</td>\n",
       "      <td>6.000000</td>\n",
       "      <td>14.000000</td>\n",
       "      <td>2.000000</td>\n",
       "      <td>1.000000</td>\n",
       "      <td>...</td>\n",
       "      <td>1.000000</td>\n",
       "      <td>1.000000</td>\n",
       "      <td>1.000000</td>\n",
       "      <td>1.000000</td>\n",
       "      <td>1.000000</td>\n",
       "      <td>1.000000</td>\n",
       "      <td>1.000000</td>\n",
       "      <td>1.000000</td>\n",
       "      <td>1.000000</td>\n",
       "      <td>1.000000</td>\n",
       "    </tr>\n",
       "  </tbody>\n",
       "</table>\n",
       "<p>8 rows × 690 columns</p>\n",
       "</div>"
      ],
      "text/plain": [
       "               ID  Sobrevivente      Classe        Sexo       Idade  \\\n",
       "count  891.000000    891.000000  891.000000  891.000000  714.000000   \n",
       "mean   446.000000      0.383838    2.308642    0.647587   29.699118   \n",
       "std    257.353842      0.486592    0.836071    0.477990   14.526497   \n",
       "min      1.000000      0.000000    1.000000    0.000000    0.420000   \n",
       "25%    223.500000      0.000000    2.000000    0.000000   20.125000   \n",
       "50%    446.000000      0.000000    3.000000    1.000000   28.000000   \n",
       "75%    668.500000      1.000000    3.000000    1.000000   38.000000   \n",
       "max    891.000000      1.000000    3.000000    1.000000   80.000000   \n",
       "\n",
       "       EsposasEIrmas    Parentes      Tarifa    Embarque      113514  ...  \\\n",
       "count     891.000000  891.000000  891.000000  891.000000  891.000000  ...   \n",
       "mean        0.523008    0.381594    2.074074    1.536476    0.003367  ...   \n",
       "std         1.102743    0.806057    2.079086    0.791503    0.057961  ...   \n",
       "min         0.000000    0.000000    1.000000    0.000000    0.000000  ...   \n",
       "25%         0.000000    0.000000    1.000000    1.000000    0.000000  ...   \n",
       "50%         0.000000    0.000000    1.000000    2.000000    0.000000  ...   \n",
       "75%         1.000000    0.000000    2.000000    2.000000    0.000000  ...   \n",
       "max         8.000000    6.000000   14.000000    2.000000    1.000000  ...   \n",
       "\n",
       "            36973       19972      349216      C 7076      113059  \\\n",
       "count  891.000000  891.000000  891.000000  891.000000  891.000000   \n",
       "mean     0.001122    0.001122    0.001122    0.001122    0.002245   \n",
       "std      0.033501    0.033501    0.033501    0.033501    0.047351   \n",
       "min      0.000000    0.000000    0.000000    0.000000    0.000000   \n",
       "25%      0.000000    0.000000    0.000000    0.000000    0.000000   \n",
       "50%      0.000000    0.000000    0.000000    0.000000    0.000000   \n",
       "75%      0.000000    0.000000    0.000000    0.000000    0.000000   \n",
       "max      1.000000    1.000000    1.000000    1.000000    1.000000   \n",
       "\n",
       "       SC/Paris 2123        2693    PC 17760       13507       11771  \n",
       "count     891.000000  891.000000  891.000000  891.000000  891.000000  \n",
       "mean        0.004489    0.001122    0.001122    0.001122    0.002245  \n",
       "std         0.066890    0.033501    0.033501    0.033501    0.047351  \n",
       "min         0.000000    0.000000    0.000000    0.000000    0.000000  \n",
       "25%         0.000000    0.000000    0.000000    0.000000    0.000000  \n",
       "50%         0.000000    0.000000    0.000000    0.000000    0.000000  \n",
       "75%         0.000000    0.000000    0.000000    0.000000    0.000000  \n",
       "max         1.000000    1.000000    1.000000    1.000000    1.000000  \n",
       "\n",
       "[8 rows x 690 columns]"
      ]
     },
     "execution_count": 43,
     "metadata": {},
     "output_type": "execute_result"
    }
   ],
   "source": [
    "# Dados tratados -- Contabiliza a qntd de instâncias não-nulas (count), a média dos valores (mean), o desvio padrão (std), \n",
    "# o valor mínimo (min), o valor máximo (max) e as distribuições (quartis) de 25%, 50% e 75%\n",
    "titanic_df.describe()"
   ]
  },
  {
   "cell_type": "markdown",
   "id": "94845ed6",
   "metadata": {},
   "source": [
    "**As colunas Sexo e Embarque não são mostradas acima por <font color='red'>titanic_df_orig</font>, mas são mostradas por <font color='red'>titanic_df</font>. Isso aconteceu porque o método <font color='green'>describe</font> só é capaz de listar métricas a respeito de dados numéricos.** \n",
    "<br><br>\n",
    "**Fica nítido a existência de muitos valores do tipo NaN na coluna <font color='red'>Idade</font> (count: 714 != 891 das outras colunas). Portanto, torna-se evidente a necessidade de uma preparação dos dados para tratar o atributo <font color='red'>Idade</font> que possui muitas instâncias nulas.**\n",
    "<br><br>\n",
    "**A seguir, são deletadas as colunas ID, Nome e Cabine que não serão usadas no treinamento dos modelos.**"
   ]
  },
  {
   "cell_type": "code",
   "execution_count": 44,
   "id": "e7b4710d",
   "metadata": {},
   "outputs": [],
   "source": [
    "# Deleta as colunas ID e Nome\n",
    "conj_modelo = titanic_df.drop(labels=['ID', 'Nome', 'Cabine'], axis = 1)"
   ]
  },
  {
   "cell_type": "markdown",
   "id": "72f16297",
   "metadata": {},
   "source": [
    "### 1.10 - Preenchimento dos valores NaN no atributo Idade com o algoritmo KNN"
   ]
  },
  {
   "cell_type": "markdown",
   "id": "8cebfeab",
   "metadata": {},
   "source": [
    "**A partir de agora, os dados serão preparados para a previsão dos valores faltantes de idade (177 valores NaN). Essa previsão será executada a partir do treinamento do modelo KNN.**"
   ]
  },
  {
   "cell_type": "markdown",
   "id": "47a66841",
   "metadata": {},
   "source": [
    "### -> <font color ='red'>Padronização</font> e <font color ='red'>separação</font> dos dados de todos os atributos do dataframe conj_modelo"
   ]
  },
  {
   "cell_type": "code",
   "execution_count": 45,
   "id": "abd4b835",
   "metadata": {},
   "outputs": [],
   "source": [
    "# Instancia a classe StandardScaler para padronização dos dados\n",
    "scaler = StandardScaler()\n",
    "\n",
    "# Faz o treinamento e a padronização dos dados em conj_modelo\n",
    "X_regressao_st = pd.DataFrame(data = scaler.fit_transform(conj_modelo), columns = conj_modelo.columns)\n",
    "\n",
    "idade_mean_st = scaler.mean_[3] # Armazena a média da coluna idade\n",
    "\n",
    "idade_std_st = scaler.scale_[3] # Armazena o desvio padrão da coluna idade"
   ]
  },
  {
   "cell_type": "code",
   "execution_count": 46,
   "id": "5e11c232",
   "metadata": {
    "scrolled": true
   },
   "outputs": [
    {
     "data": {
      "text/plain": [
       "Idade            1.000000\n",
       "Classe           0.369226\n",
       "EsposasEIrmas    0.308247\n",
       "Parentes         0.189119\n",
       "382652           0.129770\n",
       "CA. 2343         0.114291\n",
       "31418            0.114137\n",
       "Tarifa           0.107736\n",
       "17463            0.106551\n",
       "218629           0.106551\n",
       "370129           0.105261\n",
       "220845           0.103971\n",
       "2648             0.102729\n",
       "349227           0.102390\n",
       "8471             0.099305\n",
       "Name: Idade, dtype: float64"
      ]
     },
     "execution_count": 46,
     "metadata": {},
     "output_type": "execute_result"
    }
   ],
   "source": [
    "# Calcula o coef de correlação de Pearson e salva os 20 atributos de maior coef de correlação com o atributo Idade\n",
    "colunas_X_regressao = (np.abs(X_regressao_st.corr(method='pearson')['Idade'])).nlargest(n=21, keep='first').index[1:21].tolist()\n",
    "\n",
    "# Exibe os 15 primeiros atributos da lista dos atributos (colunas_X_regressao) com os maiores coefs de correlação\n",
    "(np.abs(X_regressao_st.corr(method='pearson')['Idade'])).nlargest(n=15, keep='first')"
   ]
  },
  {
   "cell_type": "code",
   "execution_count": 47,
   "id": "48a02d13",
   "metadata": {},
   "outputs": [],
   "source": [
    "# Armazena os atributos previsores com maiores índices de correlação, mas apenas as instâncias com NaN no atributo Idade\n",
    "nulos = X_regressao_st[X_regressao_st['Idade'].isnull()][colunas_X_regressao]"
   ]
  },
  {
   "cell_type": "code",
   "execution_count": 48,
   "id": "e1766231",
   "metadata": {},
   "outputs": [],
   "source": [
    "# Apaga todas as instâncias que apresente, pelo menos, 1 valor NaN em alguma coluna (apenas a coluna Idade apresenta NaN's)\n",
    "X_regressao_dropna = X_regressao_st.dropna(axis = 0)"
   ]
  },
  {
   "cell_type": "code",
   "execution_count": 49,
   "id": "31eb23be",
   "metadata": {},
   "outputs": [],
   "source": [
    "# Salva o atributo-alvo Idade em uma variável e os atributos previsores em outra variável\n",
    "y_regressao_dropna = X_regressao_dropna['Idade']\n",
    "X_regressao_dropna = X_regressao_dropna[colunas_X_regressao]"
   ]
  },
  {
   "cell_type": "markdown",
   "id": "0583579c",
   "metadata": {},
   "source": [
    "### -> <font color ='red'>Treinamento</font> do algoritmo <font color='orange'>KNN</font> e <font color ='red'> as previsões</font> das idades faltantes"
   ]
  },
  {
   "cell_type": "code",
   "execution_count": 50,
   "id": "bbb0d2f6",
   "metadata": {},
   "outputs": [],
   "source": [
    "# Importa a classe do modelo Knn\n",
    "from sklearn.neighbors import KNeighborsRegressor as Knn"
   ]
  },
  {
   "cell_type": "code",
   "execution_count": 51,
   "id": "9c9e5d52",
   "metadata": {},
   "outputs": [],
   "source": [
    "# Configura e instancia o modelo\n",
    "k = Knn(n_neighbors=5)"
   ]
  },
  {
   "cell_type": "code",
   "execution_count": 52,
   "id": "1aec40e1",
   "metadata": {},
   "outputs": [],
   "source": [
    "# Treina o modelo\n",
    "k.fit(X_regressao_dropna, y_regressao_dropna);"
   ]
  },
  {
   "cell_type": "code",
   "execution_count": 53,
   "id": "74dfd446",
   "metadata": {},
   "outputs": [],
   "source": [
    "# Prevê os valores de Idade com os 4 atributos previsores salvos na variável 'nulos'\n",
    "prevs = k.predict(nulos)"
   ]
  },
  {
   "cell_type": "code",
   "execution_count": 54,
   "id": "7320fe35",
   "metadata": {},
   "outputs": [],
   "source": [
    "# Substitui os valores NaN no atributo Idade pelos previstos. Cálculo de despadronização dos valores previstos:\n",
    "# Z = (X - mean) / std --> X = Z * (std) + mean\n",
    "conj_modelo.loc[conj_modelo['Idade'].isnull(), 'Idade'] = (prevs * idade_std_st) + idade_mean_st"
   ]
  },
  {
   "cell_type": "code",
   "execution_count": 55,
   "id": "342dcfc6",
   "metadata": {},
   "outputs": [
    {
     "data": {
      "text/html": [
       "<div>\n",
       "<style scoped>\n",
       "    .dataframe tbody tr th:only-of-type {\n",
       "        vertical-align: middle;\n",
       "    }\n",
       "\n",
       "    .dataframe tbody tr th {\n",
       "        vertical-align: top;\n",
       "    }\n",
       "\n",
       "    .dataframe thead th {\n",
       "        text-align: right;\n",
       "    }\n",
       "</style>\n",
       "<table border=\"1\" class=\"dataframe\">\n",
       "  <thead>\n",
       "    <tr style=\"text-align: right;\">\n",
       "      <th></th>\n",
       "      <th>Sobrevivente</th>\n",
       "      <th>Classe</th>\n",
       "      <th>Sexo</th>\n",
       "      <th>Idade</th>\n",
       "      <th>EsposasEIrmas</th>\n",
       "      <th>Parentes</th>\n",
       "      <th>Tarifa</th>\n",
       "      <th>Embarque</th>\n",
       "      <th>113514</th>\n",
       "      <th>29106</th>\n",
       "      <th>...</th>\n",
       "      <th>36973</th>\n",
       "      <th>19972</th>\n",
       "      <th>349216</th>\n",
       "      <th>C 7076</th>\n",
       "      <th>113059</th>\n",
       "      <th>SC/Paris 2123</th>\n",
       "      <th>2693</th>\n",
       "      <th>PC 17760</th>\n",
       "      <th>13507</th>\n",
       "      <th>11771</th>\n",
       "    </tr>\n",
       "  </thead>\n",
       "  <tbody>\n",
       "    <tr>\n",
       "      <th>count</th>\n",
       "      <td>891.000000</td>\n",
       "      <td>891.000000</td>\n",
       "      <td>891.000000</td>\n",
       "      <td>891.000000</td>\n",
       "      <td>891.000000</td>\n",
       "      <td>891.000000</td>\n",
       "      <td>891.000000</td>\n",
       "      <td>891.000000</td>\n",
       "      <td>891.000000</td>\n",
       "      <td>891.000000</td>\n",
       "      <td>...</td>\n",
       "      <td>891.000000</td>\n",
       "      <td>891.000000</td>\n",
       "      <td>891.000000</td>\n",
       "      <td>891.000000</td>\n",
       "      <td>891.000000</td>\n",
       "      <td>891.000000</td>\n",
       "      <td>891.000000</td>\n",
       "      <td>891.000000</td>\n",
       "      <td>891.000000</td>\n",
       "      <td>891.000000</td>\n",
       "    </tr>\n",
       "    <tr>\n",
       "      <th>mean</th>\n",
       "      <td>0.383838</td>\n",
       "      <td>2.308642</td>\n",
       "      <td>0.647587</td>\n",
       "      <td>29.622525</td>\n",
       "      <td>0.523008</td>\n",
       "      <td>0.381594</td>\n",
       "      <td>2.074074</td>\n",
       "      <td>1.536476</td>\n",
       "      <td>0.003367</td>\n",
       "      <td>0.003367</td>\n",
       "      <td>...</td>\n",
       "      <td>0.001122</td>\n",
       "      <td>0.001122</td>\n",
       "      <td>0.001122</td>\n",
       "      <td>0.001122</td>\n",
       "      <td>0.002245</td>\n",
       "      <td>0.004489</td>\n",
       "      <td>0.001122</td>\n",
       "      <td>0.001122</td>\n",
       "      <td>0.001122</td>\n",
       "      <td>0.002245</td>\n",
       "    </tr>\n",
       "    <tr>\n",
       "      <th>std</th>\n",
       "      <td>0.486592</td>\n",
       "      <td>0.836071</td>\n",
       "      <td>0.477990</td>\n",
       "      <td>13.427234</td>\n",
       "      <td>1.102743</td>\n",
       "      <td>0.806057</td>\n",
       "      <td>2.079086</td>\n",
       "      <td>0.791503</td>\n",
       "      <td>0.057961</td>\n",
       "      <td>0.057961</td>\n",
       "      <td>...</td>\n",
       "      <td>0.033501</td>\n",
       "      <td>0.033501</td>\n",
       "      <td>0.033501</td>\n",
       "      <td>0.033501</td>\n",
       "      <td>0.047351</td>\n",
       "      <td>0.066890</td>\n",
       "      <td>0.033501</td>\n",
       "      <td>0.033501</td>\n",
       "      <td>0.033501</td>\n",
       "      <td>0.047351</td>\n",
       "    </tr>\n",
       "    <tr>\n",
       "      <th>min</th>\n",
       "      <td>0.000000</td>\n",
       "      <td>1.000000</td>\n",
       "      <td>0.000000</td>\n",
       "      <td>0.420000</td>\n",
       "      <td>0.000000</td>\n",
       "      <td>0.000000</td>\n",
       "      <td>1.000000</td>\n",
       "      <td>0.000000</td>\n",
       "      <td>0.000000</td>\n",
       "      <td>0.000000</td>\n",
       "      <td>...</td>\n",
       "      <td>0.000000</td>\n",
       "      <td>0.000000</td>\n",
       "      <td>0.000000</td>\n",
       "      <td>0.000000</td>\n",
       "      <td>0.000000</td>\n",
       "      <td>0.000000</td>\n",
       "      <td>0.000000</td>\n",
       "      <td>0.000000</td>\n",
       "      <td>0.000000</td>\n",
       "      <td>0.000000</td>\n",
       "    </tr>\n",
       "    <tr>\n",
       "      <th>25%</th>\n",
       "      <td>0.000000</td>\n",
       "      <td>2.000000</td>\n",
       "      <td>0.000000</td>\n",
       "      <td>22.000000</td>\n",
       "      <td>0.000000</td>\n",
       "      <td>0.000000</td>\n",
       "      <td>1.000000</td>\n",
       "      <td>1.000000</td>\n",
       "      <td>0.000000</td>\n",
       "      <td>0.000000</td>\n",
       "      <td>...</td>\n",
       "      <td>0.000000</td>\n",
       "      <td>0.000000</td>\n",
       "      <td>0.000000</td>\n",
       "      <td>0.000000</td>\n",
       "      <td>0.000000</td>\n",
       "      <td>0.000000</td>\n",
       "      <td>0.000000</td>\n",
       "      <td>0.000000</td>\n",
       "      <td>0.000000</td>\n",
       "      <td>0.000000</td>\n",
       "    </tr>\n",
       "    <tr>\n",
       "      <th>50%</th>\n",
       "      <td>0.000000</td>\n",
       "      <td>3.000000</td>\n",
       "      <td>1.000000</td>\n",
       "      <td>29.000000</td>\n",
       "      <td>0.000000</td>\n",
       "      <td>0.000000</td>\n",
       "      <td>1.000000</td>\n",
       "      <td>2.000000</td>\n",
       "      <td>0.000000</td>\n",
       "      <td>0.000000</td>\n",
       "      <td>...</td>\n",
       "      <td>0.000000</td>\n",
       "      <td>0.000000</td>\n",
       "      <td>0.000000</td>\n",
       "      <td>0.000000</td>\n",
       "      <td>0.000000</td>\n",
       "      <td>0.000000</td>\n",
       "      <td>0.000000</td>\n",
       "      <td>0.000000</td>\n",
       "      <td>0.000000</td>\n",
       "      <td>0.000000</td>\n",
       "    </tr>\n",
       "    <tr>\n",
       "      <th>75%</th>\n",
       "      <td>1.000000</td>\n",
       "      <td>3.000000</td>\n",
       "      <td>1.000000</td>\n",
       "      <td>36.000000</td>\n",
       "      <td>1.000000</td>\n",
       "      <td>0.000000</td>\n",
       "      <td>2.000000</td>\n",
       "      <td>2.000000</td>\n",
       "      <td>0.000000</td>\n",
       "      <td>0.000000</td>\n",
       "      <td>...</td>\n",
       "      <td>0.000000</td>\n",
       "      <td>0.000000</td>\n",
       "      <td>0.000000</td>\n",
       "      <td>0.000000</td>\n",
       "      <td>0.000000</td>\n",
       "      <td>0.000000</td>\n",
       "      <td>0.000000</td>\n",
       "      <td>0.000000</td>\n",
       "      <td>0.000000</td>\n",
       "      <td>0.000000</td>\n",
       "    </tr>\n",
       "    <tr>\n",
       "      <th>max</th>\n",
       "      <td>1.000000</td>\n",
       "      <td>3.000000</td>\n",
       "      <td>1.000000</td>\n",
       "      <td>80.000000</td>\n",
       "      <td>8.000000</td>\n",
       "      <td>6.000000</td>\n",
       "      <td>14.000000</td>\n",
       "      <td>2.000000</td>\n",
       "      <td>1.000000</td>\n",
       "      <td>1.000000</td>\n",
       "      <td>...</td>\n",
       "      <td>1.000000</td>\n",
       "      <td>1.000000</td>\n",
       "      <td>1.000000</td>\n",
       "      <td>1.000000</td>\n",
       "      <td>1.000000</td>\n",
       "      <td>1.000000</td>\n",
       "      <td>1.000000</td>\n",
       "      <td>1.000000</td>\n",
       "      <td>1.000000</td>\n",
       "      <td>1.000000</td>\n",
       "    </tr>\n",
       "  </tbody>\n",
       "</table>\n",
       "<p>8 rows × 689 columns</p>\n",
       "</div>"
      ],
      "text/plain": [
       "       Sobrevivente      Classe        Sexo       Idade  EsposasEIrmas  \\\n",
       "count    891.000000  891.000000  891.000000  891.000000     891.000000   \n",
       "mean       0.383838    2.308642    0.647587   29.622525       0.523008   \n",
       "std        0.486592    0.836071    0.477990   13.427234       1.102743   \n",
       "min        0.000000    1.000000    0.000000    0.420000       0.000000   \n",
       "25%        0.000000    2.000000    0.000000   22.000000       0.000000   \n",
       "50%        0.000000    3.000000    1.000000   29.000000       0.000000   \n",
       "75%        1.000000    3.000000    1.000000   36.000000       1.000000   \n",
       "max        1.000000    3.000000    1.000000   80.000000       8.000000   \n",
       "\n",
       "         Parentes      Tarifa    Embarque      113514       29106  ...  \\\n",
       "count  891.000000  891.000000  891.000000  891.000000  891.000000  ...   \n",
       "mean     0.381594    2.074074    1.536476    0.003367    0.003367  ...   \n",
       "std      0.806057    2.079086    0.791503    0.057961    0.057961  ...   \n",
       "min      0.000000    1.000000    0.000000    0.000000    0.000000  ...   \n",
       "25%      0.000000    1.000000    1.000000    0.000000    0.000000  ...   \n",
       "50%      0.000000    1.000000    2.000000    0.000000    0.000000  ...   \n",
       "75%      0.000000    2.000000    2.000000    0.000000    0.000000  ...   \n",
       "max      6.000000   14.000000    2.000000    1.000000    1.000000  ...   \n",
       "\n",
       "            36973       19972      349216      C 7076      113059  \\\n",
       "count  891.000000  891.000000  891.000000  891.000000  891.000000   \n",
       "mean     0.001122    0.001122    0.001122    0.001122    0.002245   \n",
       "std      0.033501    0.033501    0.033501    0.033501    0.047351   \n",
       "min      0.000000    0.000000    0.000000    0.000000    0.000000   \n",
       "25%      0.000000    0.000000    0.000000    0.000000    0.000000   \n",
       "50%      0.000000    0.000000    0.000000    0.000000    0.000000   \n",
       "75%      0.000000    0.000000    0.000000    0.000000    0.000000   \n",
       "max      1.000000    1.000000    1.000000    1.000000    1.000000   \n",
       "\n",
       "       SC/Paris 2123        2693    PC 17760       13507       11771  \n",
       "count     891.000000  891.000000  891.000000  891.000000  891.000000  \n",
       "mean        0.004489    0.001122    0.001122    0.001122    0.002245  \n",
       "std         0.066890    0.033501    0.033501    0.033501    0.047351  \n",
       "min         0.000000    0.000000    0.000000    0.000000    0.000000  \n",
       "25%         0.000000    0.000000    0.000000    0.000000    0.000000  \n",
       "50%         0.000000    0.000000    0.000000    0.000000    0.000000  \n",
       "75%         0.000000    0.000000    0.000000    0.000000    0.000000  \n",
       "max         1.000000    1.000000    1.000000    1.000000    1.000000  \n",
       "\n",
       "[8 rows x 689 columns]"
      ]
     },
     "execution_count": 55,
     "metadata": {},
     "output_type": "execute_result"
    }
   ],
   "source": [
    "# Avalia o conjunto de dados com uma análise estatística descritiva\n",
    "conj_modelo.describe()"
   ]
  },
  {
   "cell_type": "code",
   "execution_count": 56,
   "id": "ab229fea",
   "metadata": {},
   "outputs": [],
   "source": [
    "# Transforma os valores contínuos em discretos por meio da indexação dos valores na coluna Idade\n",
    "I = Indexacao_Coluna()\n",
    "I.index_intervals_1(dataframe = conj_modelo, column = 'Idade', interval_1 = [0, 76, 5], \n",
    "                    interval_2 = [5, 81, 5], include_upper = True)"
   ]
  },
  {
   "cell_type": "code",
   "execution_count": 57,
   "id": "76588672",
   "metadata": {
    "scrolled": false
   },
   "outputs": [
    {
     "data": {
      "text/html": [
       "<div>\n",
       "<style scoped>\n",
       "    .dataframe tbody tr th:only-of-type {\n",
       "        vertical-align: middle;\n",
       "    }\n",
       "\n",
       "    .dataframe tbody tr th {\n",
       "        vertical-align: top;\n",
       "    }\n",
       "\n",
       "    .dataframe thead th {\n",
       "        text-align: right;\n",
       "    }\n",
       "</style>\n",
       "<table border=\"1\" class=\"dataframe\">\n",
       "  <thead>\n",
       "    <tr style=\"text-align: right;\">\n",
       "      <th></th>\n",
       "      <th>Sobrevivente</th>\n",
       "      <th>Classe</th>\n",
       "      <th>Sexo</th>\n",
       "      <th>Idade</th>\n",
       "      <th>EsposasEIrmas</th>\n",
       "      <th>Parentes</th>\n",
       "      <th>Tarifa</th>\n",
       "      <th>Embarque</th>\n",
       "      <th>113514</th>\n",
       "      <th>29106</th>\n",
       "      <th>...</th>\n",
       "      <th>36973</th>\n",
       "      <th>19972</th>\n",
       "      <th>349216</th>\n",
       "      <th>C 7076</th>\n",
       "      <th>113059</th>\n",
       "      <th>SC/Paris 2123</th>\n",
       "      <th>2693</th>\n",
       "      <th>PC 17760</th>\n",
       "      <th>13507</th>\n",
       "      <th>11771</th>\n",
       "    </tr>\n",
       "  </thead>\n",
       "  <tbody>\n",
       "    <tr>\n",
       "      <th>count</th>\n",
       "      <td>891.000000</td>\n",
       "      <td>891.000000</td>\n",
       "      <td>891.000000</td>\n",
       "      <td>891.000000</td>\n",
       "      <td>891.000000</td>\n",
       "      <td>891.000000</td>\n",
       "      <td>891.000000</td>\n",
       "      <td>891.000000</td>\n",
       "      <td>891.000000</td>\n",
       "      <td>891.000000</td>\n",
       "      <td>...</td>\n",
       "      <td>891.000000</td>\n",
       "      <td>891.000000</td>\n",
       "      <td>891.000000</td>\n",
       "      <td>891.000000</td>\n",
       "      <td>891.000000</td>\n",
       "      <td>891.000000</td>\n",
       "      <td>891.000000</td>\n",
       "      <td>891.000000</td>\n",
       "      <td>891.000000</td>\n",
       "      <td>891.000000</td>\n",
       "    </tr>\n",
       "    <tr>\n",
       "      <th>mean</th>\n",
       "      <td>0.383838</td>\n",
       "      <td>2.308642</td>\n",
       "      <td>0.647587</td>\n",
       "      <td>6.377104</td>\n",
       "      <td>0.523008</td>\n",
       "      <td>0.381594</td>\n",
       "      <td>2.074074</td>\n",
       "      <td>1.536476</td>\n",
       "      <td>0.003367</td>\n",
       "      <td>0.003367</td>\n",
       "      <td>...</td>\n",
       "      <td>0.001122</td>\n",
       "      <td>0.001122</td>\n",
       "      <td>0.001122</td>\n",
       "      <td>0.001122</td>\n",
       "      <td>0.002245</td>\n",
       "      <td>0.004489</td>\n",
       "      <td>0.001122</td>\n",
       "      <td>0.001122</td>\n",
       "      <td>0.001122</td>\n",
       "      <td>0.002245</td>\n",
       "    </tr>\n",
       "    <tr>\n",
       "      <th>std</th>\n",
       "      <td>0.486592</td>\n",
       "      <td>0.836071</td>\n",
       "      <td>0.477990</td>\n",
       "      <td>2.684808</td>\n",
       "      <td>1.102743</td>\n",
       "      <td>0.806057</td>\n",
       "      <td>2.079086</td>\n",
       "      <td>0.791503</td>\n",
       "      <td>0.057961</td>\n",
       "      <td>0.057961</td>\n",
       "      <td>...</td>\n",
       "      <td>0.033501</td>\n",
       "      <td>0.033501</td>\n",
       "      <td>0.033501</td>\n",
       "      <td>0.033501</td>\n",
       "      <td>0.047351</td>\n",
       "      <td>0.066890</td>\n",
       "      <td>0.033501</td>\n",
       "      <td>0.033501</td>\n",
       "      <td>0.033501</td>\n",
       "      <td>0.047351</td>\n",
       "    </tr>\n",
       "    <tr>\n",
       "      <th>min</th>\n",
       "      <td>0.000000</td>\n",
       "      <td>1.000000</td>\n",
       "      <td>0.000000</td>\n",
       "      <td>1.000000</td>\n",
       "      <td>0.000000</td>\n",
       "      <td>0.000000</td>\n",
       "      <td>1.000000</td>\n",
       "      <td>0.000000</td>\n",
       "      <td>0.000000</td>\n",
       "      <td>0.000000</td>\n",
       "      <td>...</td>\n",
       "      <td>0.000000</td>\n",
       "      <td>0.000000</td>\n",
       "      <td>0.000000</td>\n",
       "      <td>0.000000</td>\n",
       "      <td>0.000000</td>\n",
       "      <td>0.000000</td>\n",
       "      <td>0.000000</td>\n",
       "      <td>0.000000</td>\n",
       "      <td>0.000000</td>\n",
       "      <td>0.000000</td>\n",
       "    </tr>\n",
       "    <tr>\n",
       "      <th>25%</th>\n",
       "      <td>0.000000</td>\n",
       "      <td>2.000000</td>\n",
       "      <td>0.000000</td>\n",
       "      <td>5.000000</td>\n",
       "      <td>0.000000</td>\n",
       "      <td>0.000000</td>\n",
       "      <td>1.000000</td>\n",
       "      <td>1.000000</td>\n",
       "      <td>0.000000</td>\n",
       "      <td>0.000000</td>\n",
       "      <td>...</td>\n",
       "      <td>0.000000</td>\n",
       "      <td>0.000000</td>\n",
       "      <td>0.000000</td>\n",
       "      <td>0.000000</td>\n",
       "      <td>0.000000</td>\n",
       "      <td>0.000000</td>\n",
       "      <td>0.000000</td>\n",
       "      <td>0.000000</td>\n",
       "      <td>0.000000</td>\n",
       "      <td>0.000000</td>\n",
       "    </tr>\n",
       "    <tr>\n",
       "      <th>50%</th>\n",
       "      <td>0.000000</td>\n",
       "      <td>3.000000</td>\n",
       "      <td>1.000000</td>\n",
       "      <td>6.000000</td>\n",
       "      <td>0.000000</td>\n",
       "      <td>0.000000</td>\n",
       "      <td>1.000000</td>\n",
       "      <td>2.000000</td>\n",
       "      <td>0.000000</td>\n",
       "      <td>0.000000</td>\n",
       "      <td>...</td>\n",
       "      <td>0.000000</td>\n",
       "      <td>0.000000</td>\n",
       "      <td>0.000000</td>\n",
       "      <td>0.000000</td>\n",
       "      <td>0.000000</td>\n",
       "      <td>0.000000</td>\n",
       "      <td>0.000000</td>\n",
       "      <td>0.000000</td>\n",
       "      <td>0.000000</td>\n",
       "      <td>0.000000</td>\n",
       "    </tr>\n",
       "    <tr>\n",
       "      <th>75%</th>\n",
       "      <td>1.000000</td>\n",
       "      <td>3.000000</td>\n",
       "      <td>1.000000</td>\n",
       "      <td>8.000000</td>\n",
       "      <td>1.000000</td>\n",
       "      <td>0.000000</td>\n",
       "      <td>2.000000</td>\n",
       "      <td>2.000000</td>\n",
       "      <td>0.000000</td>\n",
       "      <td>0.000000</td>\n",
       "      <td>...</td>\n",
       "      <td>0.000000</td>\n",
       "      <td>0.000000</td>\n",
       "      <td>0.000000</td>\n",
       "      <td>0.000000</td>\n",
       "      <td>0.000000</td>\n",
       "      <td>0.000000</td>\n",
       "      <td>0.000000</td>\n",
       "      <td>0.000000</td>\n",
       "      <td>0.000000</td>\n",
       "      <td>0.000000</td>\n",
       "    </tr>\n",
       "    <tr>\n",
       "      <th>max</th>\n",
       "      <td>1.000000</td>\n",
       "      <td>3.000000</td>\n",
       "      <td>1.000000</td>\n",
       "      <td>16.000000</td>\n",
       "      <td>8.000000</td>\n",
       "      <td>6.000000</td>\n",
       "      <td>14.000000</td>\n",
       "      <td>2.000000</td>\n",
       "      <td>1.000000</td>\n",
       "      <td>1.000000</td>\n",
       "      <td>...</td>\n",
       "      <td>1.000000</td>\n",
       "      <td>1.000000</td>\n",
       "      <td>1.000000</td>\n",
       "      <td>1.000000</td>\n",
       "      <td>1.000000</td>\n",
       "      <td>1.000000</td>\n",
       "      <td>1.000000</td>\n",
       "      <td>1.000000</td>\n",
       "      <td>1.000000</td>\n",
       "      <td>1.000000</td>\n",
       "    </tr>\n",
       "  </tbody>\n",
       "</table>\n",
       "<p>8 rows × 689 columns</p>\n",
       "</div>"
      ],
      "text/plain": [
       "       Sobrevivente      Classe        Sexo       Idade  EsposasEIrmas  \\\n",
       "count    891.000000  891.000000  891.000000  891.000000     891.000000   \n",
       "mean       0.383838    2.308642    0.647587    6.377104       0.523008   \n",
       "std        0.486592    0.836071    0.477990    2.684808       1.102743   \n",
       "min        0.000000    1.000000    0.000000    1.000000       0.000000   \n",
       "25%        0.000000    2.000000    0.000000    5.000000       0.000000   \n",
       "50%        0.000000    3.000000    1.000000    6.000000       0.000000   \n",
       "75%        1.000000    3.000000    1.000000    8.000000       1.000000   \n",
       "max        1.000000    3.000000    1.000000   16.000000       8.000000   \n",
       "\n",
       "         Parentes      Tarifa    Embarque      113514       29106  ...  \\\n",
       "count  891.000000  891.000000  891.000000  891.000000  891.000000  ...   \n",
       "mean     0.381594    2.074074    1.536476    0.003367    0.003367  ...   \n",
       "std      0.806057    2.079086    0.791503    0.057961    0.057961  ...   \n",
       "min      0.000000    1.000000    0.000000    0.000000    0.000000  ...   \n",
       "25%      0.000000    1.000000    1.000000    0.000000    0.000000  ...   \n",
       "50%      0.000000    1.000000    2.000000    0.000000    0.000000  ...   \n",
       "75%      0.000000    2.000000    2.000000    0.000000    0.000000  ...   \n",
       "max      6.000000   14.000000    2.000000    1.000000    1.000000  ...   \n",
       "\n",
       "            36973       19972      349216      C 7076      113059  \\\n",
       "count  891.000000  891.000000  891.000000  891.000000  891.000000   \n",
       "mean     0.001122    0.001122    0.001122    0.001122    0.002245   \n",
       "std      0.033501    0.033501    0.033501    0.033501    0.047351   \n",
       "min      0.000000    0.000000    0.000000    0.000000    0.000000   \n",
       "25%      0.000000    0.000000    0.000000    0.000000    0.000000   \n",
       "50%      0.000000    0.000000    0.000000    0.000000    0.000000   \n",
       "75%      0.000000    0.000000    0.000000    0.000000    0.000000   \n",
       "max      1.000000    1.000000    1.000000    1.000000    1.000000   \n",
       "\n",
       "       SC/Paris 2123        2693    PC 17760       13507       11771  \n",
       "count     891.000000  891.000000  891.000000  891.000000  891.000000  \n",
       "mean        0.004489    0.001122    0.001122    0.001122    0.002245  \n",
       "std         0.066890    0.033501    0.033501    0.033501    0.047351  \n",
       "min         0.000000    0.000000    0.000000    0.000000    0.000000  \n",
       "25%         0.000000    0.000000    0.000000    0.000000    0.000000  \n",
       "50%         0.000000    0.000000    0.000000    0.000000    0.000000  \n",
       "75%         0.000000    0.000000    0.000000    0.000000    0.000000  \n",
       "max         1.000000    1.000000    1.000000    1.000000    1.000000  \n",
       "\n",
       "[8 rows x 689 columns]"
      ]
     },
     "execution_count": 57,
     "metadata": {},
     "output_type": "execute_result"
    }
   ],
   "source": [
    "# Avalia o conjunto de dados com uma análise estatística descritiva\n",
    "conj_modelo.describe()"
   ]
  },
  {
   "cell_type": "markdown",
   "id": "10f73e04",
   "metadata": {},
   "source": [
    "**Pode-se observar agora que todas as colunas, incluindo a coluna Idade, tem a mesma quantidade de instâncias não nulas (count = 891)**"
   ]
  },
  {
   "cell_type": "markdown",
   "id": "4d3b0f77",
   "metadata": {},
   "source": [
    "### 1.11 - <font color='red'>*Oversampling*</font> dos dados"
   ]
  },
  {
   "cell_type": "code",
   "execution_count": 58,
   "id": "8ff06bad",
   "metadata": {},
   "outputs": [],
   "source": [
    "# Separação do conjunto de dados originais tratados: X = atributos previsores; y = atributo-alvo\n",
    "X = conj_modelo.drop(columns=['Sobrevivente']).copy()\n",
    "y = conj_modelo['Sobrevivente'].copy()"
   ]
  },
  {
   "cell_type": "code",
   "execution_count": 59,
   "id": "bd97462b",
   "metadata": {},
   "outputs": [],
   "source": [
    "# Gera novas instâncias para a classe minoritária \n",
    "from imblearn.over_sampling import SMOTEN\n",
    "sampler = SMOTEN(k_neighbors=5, sampling_strategy = 'minority', random_state=0)\n",
    "X, y = sampler.fit_resample(X, y)"
   ]
  },
  {
   "cell_type": "markdown",
   "id": "967d8827",
   "metadata": {},
   "source": [
    "## 2 - Seleção dos atributos"
   ]
  },
  {
   "cell_type": "markdown",
   "id": "f45992c7",
   "metadata": {},
   "source": [
    "**Para este trabalho, são usados 2 algoritmos de aprendizado supervisionado: SVM para classificação (<font color='green'>SVC</font>) e <font color='green'>KNN</font> para classificação**\n",
    "<br><br>\n",
    "**<font color='green'>SVC</font> --> Busca <font color='red'>maximizar a margem do hiperplano</font> que separa as instâncias, adotando o conceito de margem suave em que a quantidade de erros de classificação tolerada é especificada pelo programador por meio do <font color='red'>parâmetro C</font>. Esse algoritmo resolve os problemas de não linearidade das instâncias com o auxílio de funções <font color='red'>kernel</font> que ampliam a dimensionalidade dos dados, possibilitando encontrar uma distribuição linearmente separável em dimensões maiores. O SVC adequa-se bem aos conjuntos de dados de alta dimensão e poucas instâncias.**\n",
    "<br><br>\n",
    "**<font color='green'>KNN</font> --> Classifica uma instância de teste com os <font color='red'>rótulos mais frequentes</font> nos K vizinhos mais próximos dela. Esse algoritmo, assim como o SVC, consegue lidar com problemas não linearmente separáveis. É esperado que o KNN seja mais eficiente quanto menor for a dimensão (quantidade de atributos);**\n",
    "\n",
    "**A medida que <font color='red'>a quantidade de instâncias cresce</font>, o algoritmo <font color='green'>SVC</font> fica mais suscetível a apresentar <font color='red'>*overfitting*</font> e <font color='red'>mais lento para convergir</font> para uma solução quando comparado ao <font color='green'>KNN</font> que se torna <font color='blue'>mais eficiente</font>.**"
   ]
  },
  {
   "cell_type": "markdown",
   "id": "89ce10be",
   "metadata": {},
   "source": [
    "### Alguns testes serão feitos, como\n",
    "\n",
    "* **Implementação de um laço de repetição para testar 4 conjuntos de treinamento diferentes: conjunto completo (X), conjunto X padronizado (Xs), conjunto de dados X reduzido em dimensão através do PCA (Xt) e conjunto Xt padronizado (Xts);** \n",
    "<br><br>\n",
    "* **Alguns hiperparâmetros serão testados com o auxílio do algoritmo <font color='green'>Grid Search CV</font>.**\n",
    "\n",
    "### Significado de alguns hiperparâmetros do modelo SVC:\n",
    "\n",
    "* **probability = <font color='green'>True</font> --> Permite a utilização da validação cruzada e comparar os diferentes modelos;**\n",
    "<br><br>\n",
    "* **C --> Controla o peso que cada erro de classificação possui, influenciando o tamanho da margem. Quanto <font color='blue'>maior</font> o valor de C, <font color='red'>menor</font> será a margem;**\n",
    "<br><br>\n",
    "* **gamma --> Controla o quanto as instâncias afetam a forma da função de separação, aumentando ou diminuindo o nível de superadaptação.**"
   ]
  },
  {
   "cell_type": "markdown",
   "id": "dc0b8263",
   "metadata": {},
   "source": [
    "**Devido a sobreposição das instâncias nesse conjunto de dados, dificilmente a função *kernel* = <font color='red'>linear</font> trará bons resultados. É mais provável que o *kernel* = <font color='blue'>RBF</font> seja a melhor escolha por conta da necessidade da transformação dimensional.**"
   ]
  },
  {
   "cell_type": "markdown",
   "id": "bb9379ca",
   "metadata": {},
   "source": [
    "### 2.1 - Análise PCA"
   ]
  },
  {
   "cell_type": "code",
   "execution_count": 60,
   "id": "75a882dc",
   "metadata": {},
   "outputs": [
    {
     "data": {
      "text/plain": [
       "['Atributo 0 -> 48.7471 %',\n",
       " 'Atributo 1 -> 29.5266 %',\n",
       " 'Atributo 2 -> 6.5696 %',\n",
       " 'Atributo 3 -> 3.7335 %',\n",
       " 'Atributo 4 -> 2.7059 %']"
      ]
     },
     "metadata": {},
     "output_type": "display_data"
    }
   ],
   "source": [
    "# Exibe os porcentuais da variância explicada por cada um dos componentes selecionados, quando n_components = None\n",
    "Xt = PCA(n_components = None, random_state = 0).fit(X)\n",
    "\n",
    "lista_valores = []\n",
    "for i, value in enumerate(Xt.explained_variance_ratio_):\n",
    "    lista_valores.append(f'Atributo {i} -> {round(value * 100, 4)} %')\n",
    "    \n",
    "display(lista_valores[0:5])"
   ]
  },
  {
   "cell_type": "code",
   "execution_count": 61,
   "id": "4aa4bba5",
   "metadata": {
    "scrolled": true
   },
   "outputs": [
    {
     "name": "stdout",
     "output_type": "stream",
     "text": [
      "[0.48747055 0.78273694 0.84843318]\n"
     ]
    }
   ],
   "source": [
    "# Dados originais tratados e usados para treinamento do algoritmo PCA\n",
    "Xt = PCA(n_components = 3, random_state = 0).fit(X)\n",
    "\n",
    "# Exibe a soma cumulativa dos porcentuais da variância explicada por cada um dos componentes selecionados\n",
    "print(np.cumsum(Xt.explained_variance_ratio_))"
   ]
  },
  {
   "cell_type": "code",
   "execution_count": 62,
   "id": "db26c67c",
   "metadata": {},
   "outputs": [
    {
     "data": {
      "text/html": [
       "<div>\n",
       "<style scoped>\n",
       "    .dataframe tbody tr th:only-of-type {\n",
       "        vertical-align: middle;\n",
       "    }\n",
       "\n",
       "    .dataframe tbody tr th {\n",
       "        vertical-align: top;\n",
       "    }\n",
       "\n",
       "    .dataframe thead th {\n",
       "        text-align: right;\n",
       "    }\n",
       "</style>\n",
       "<table border=\"1\" class=\"dataframe\">\n",
       "  <thead>\n",
       "    <tr style=\"text-align: right;\">\n",
       "      <th></th>\n",
       "      <th>Classe</th>\n",
       "      <th>Sexo</th>\n",
       "      <th>Idade</th>\n",
       "      <th>EsposasEIrmas</th>\n",
       "      <th>Parentes</th>\n",
       "      <th>Tarifa</th>\n",
       "      <th>Embarque</th>\n",
       "      <th>113514</th>\n",
       "      <th>29106</th>\n",
       "      <th>2661</th>\n",
       "      <th>...</th>\n",
       "      <th>36973</th>\n",
       "      <th>19972</th>\n",
       "      <th>349216</th>\n",
       "      <th>C 7076</th>\n",
       "      <th>113059</th>\n",
       "      <th>SC/Paris 2123</th>\n",
       "      <th>2693</th>\n",
       "      <th>PC 17760</th>\n",
       "      <th>13507</th>\n",
       "      <th>11771</th>\n",
       "    </tr>\n",
       "  </thead>\n",
       "  <tbody>\n",
       "    <tr>\n",
       "      <th>PC-1</th>\n",
       "      <td>-0.103715</td>\n",
       "      <td>0.011255</td>\n",
       "      <td>0.977954</td>\n",
       "      <td>-0.111318</td>\n",
       "      <td>-0.057919</td>\n",
       "      <td>0.129427</td>\n",
       "      <td>-0.008536</td>\n",
       "      <td>0.000108</td>\n",
       "      <td>0.000692</td>\n",
       "      <td>0.000770</td>\n",
       "      <td>...</td>\n",
       "      <td>-0.000124</td>\n",
       "      <td>-0.000224</td>\n",
       "      <td>0.000455</td>\n",
       "      <td>0.000003</td>\n",
       "      <td>-0.000382</td>\n",
       "      <td>-0.000464</td>\n",
       "      <td>-0.000010</td>\n",
       "      <td>0.000500</td>\n",
       "      <td>0.000003</td>\n",
       "      <td>0.001219</td>\n",
       "    </tr>\n",
       "    <tr>\n",
       "      <th>PC-2</th>\n",
       "      <td>-0.238254</td>\n",
       "      <td>-0.056705</td>\n",
       "      <td>-0.131688</td>\n",
       "      <td>0.113396</td>\n",
       "      <td>0.098075</td>\n",
       "      <td>0.944686</td>\n",
       "      <td>-0.085700</td>\n",
       "      <td>0.001660</td>\n",
       "      <td>0.001075</td>\n",
       "      <td>0.000194</td>\n",
       "      <td>...</td>\n",
       "      <td>-0.000244</td>\n",
       "      <td>-0.000184</td>\n",
       "      <td>-0.000324</td>\n",
       "      <td>-0.000234</td>\n",
       "      <td>0.000006</td>\n",
       "      <td>0.000029</td>\n",
       "      <td>-0.000269</td>\n",
       "      <td>0.000274</td>\n",
       "      <td>-0.000234</td>\n",
       "      <td>0.000544</td>\n",
       "    </tr>\n",
       "    <tr>\n",
       "      <th>PC-3</th>\n",
       "      <td>0.187246</td>\n",
       "      <td>-0.034914</td>\n",
       "      <td>0.150943</td>\n",
       "      <td>0.853227</td>\n",
       "      <td>0.398913</td>\n",
       "      <td>-0.058255</td>\n",
       "      <td>0.216433</td>\n",
       "      <td>-0.002342</td>\n",
       "      <td>0.001404</td>\n",
       "      <td>-0.000553</td>\n",
       "      <td>...</td>\n",
       "      <td>-0.000343</td>\n",
       "      <td>-0.000664</td>\n",
       "      <td>0.000145</td>\n",
       "      <td>-0.000405</td>\n",
       "      <td>0.001896</td>\n",
       "      <td>0.006379</td>\n",
       "      <td>-0.000214</td>\n",
       "      <td>0.000537</td>\n",
       "      <td>-0.000405</td>\n",
       "      <td>0.001662</td>\n",
       "    </tr>\n",
       "  </tbody>\n",
       "</table>\n",
       "<p>3 rows × 688 columns</p>\n",
       "</div>"
      ],
      "text/plain": [
       "        Classe      Sexo     Idade  EsposasEIrmas  Parentes    Tarifa  \\\n",
       "PC-1 -0.103715  0.011255  0.977954      -0.111318 -0.057919  0.129427   \n",
       "PC-2 -0.238254 -0.056705 -0.131688       0.113396  0.098075  0.944686   \n",
       "PC-3  0.187246 -0.034914  0.150943       0.853227  0.398913 -0.058255   \n",
       "\n",
       "      Embarque    113514     29106      2661  ...     36973     19972  \\\n",
       "PC-1 -0.008536  0.000108  0.000692  0.000770  ... -0.000124 -0.000224   \n",
       "PC-2 -0.085700  0.001660  0.001075  0.000194  ... -0.000244 -0.000184   \n",
       "PC-3  0.216433 -0.002342  0.001404 -0.000553  ... -0.000343 -0.000664   \n",
       "\n",
       "        349216    C 7076    113059  SC/Paris 2123      2693  PC 17760  \\\n",
       "PC-1  0.000455  0.000003 -0.000382      -0.000464 -0.000010  0.000500   \n",
       "PC-2 -0.000324 -0.000234  0.000006       0.000029 -0.000269  0.000274   \n",
       "PC-3  0.000145 -0.000405  0.001896       0.006379 -0.000214  0.000537   \n",
       "\n",
       "         13507     11771  \n",
       "PC-1  0.000003  0.001219  \n",
       "PC-2 -0.000234  0.000544  \n",
       "PC-3 -0.000405  0.001662  \n",
       "\n",
       "[3 rows x 688 columns]"
      ]
     },
     "execution_count": 62,
     "metadata": {},
     "output_type": "execute_result"
    }
   ],
   "source": [
    "# Atributos que contribuem para a formação das Componentes Principais (PC's) --> PC-1: Passagem; PC-2: Tarifa; PC-3: Idade\n",
    "pd.DataFrame(Xt.components_, columns = X.columns, index = ['PC-1','PC-2', 'PC-3'])#, 'PC-4'])"
   ]
  },
  {
   "cell_type": "code",
   "execution_count": 63,
   "id": "95215b63",
   "metadata": {},
   "outputs": [
    {
     "data": {
      "text/plain": [
       "array([[-1.16634297, -1.21866527,  0.41956202],\n",
       "       [ 2.36945814,  1.92554342, -0.07524336],\n",
       "       [-0.08820091, -1.40708091, -0.24838196],\n",
       "       ...,\n",
       "       [ 0.2486663 ,  0.01438261, -0.68091522],\n",
       "       [-0.94432106,  0.02121282,  0.20861416],\n",
       "       [-1.16892745, -1.07602773,  0.23768151]])"
      ]
     },
     "execution_count": 63,
     "metadata": {},
     "output_type": "execute_result"
    }
   ],
   "source": [
    "# Aplica a redução de dimensionalidade ao conjunto X -> PCA\n",
    "Xt = Xt.transform(X)\n",
    "\n",
    "# Exibe a matriz com os dados dos atributos reduzidos em dimensionalidade\n",
    "Xt"
   ]
  },
  {
   "cell_type": "markdown",
   "id": "6b32068d",
   "metadata": {},
   "source": [
    "### 2.2 - Padronização dos dados originais pré-processados/tratados (X)"
   ]
  },
  {
   "cell_type": "code",
   "execution_count": 64,
   "id": "efcf7eb4",
   "metadata": {},
   "outputs": [],
   "source": [
    "# Dados originais tratados e padronizados\n",
    "\n",
    "Xs = StandardScaler().fit_transform(X)\n",
    "\n",
    "#from sklearn.preprocessing import RobustScaler\n",
    "#Xs = RobustScaler().fit_transform(X)\n",
    "\n",
    "#from sklearn.preprocessing import QuantileTransformer\n",
    "#Xs = QuantileTransformer().fit_transform(X)\n",
    "\n",
    "#from sklearn.preprocessing import MinMaxScaler\n",
    "#Xs = MinMaxScaler().fit_transform(X)\n",
    "\n",
    "#from sklearn.preprocessing import PowerTransformer\n",
    "#Xs = PowerTransformer().fit_transform(X)"
   ]
  },
  {
   "cell_type": "markdown",
   "id": "6257bd89",
   "metadata": {},
   "source": [
    "### 2.3 - Padronização dos dados pré-processados/tratados que passaram por PCA (Xt)"
   ]
  },
  {
   "cell_type": "code",
   "execution_count": 65,
   "id": "9936c091",
   "metadata": {},
   "outputs": [],
   "source": [
    "# Dados originais tratados, com análise PCA e padronizados\n",
    "Xts = StandardScaler().fit_transform(Xt)"
   ]
  },
  {
   "cell_type": "markdown",
   "id": "eebab3ea",
   "metadata": {},
   "source": [
    "#### Sumário das variáveis com os dados para treinamento do modelo:\n",
    "\n",
    "y --> Dados do atributo-alvo;<br>\n",
    "X --> Base de dados original apenas tratada (transformação de dados categóricos para numéricos, indexação das colunas Tarifa e Idade e tratamento de valores NaN);<br>\n",
    "Xt --> Base de dados tratada (X) que sofreu redução de dimensionalidade - PCA;<br>\n",
    "Xs --> Base de dados tratada (X) que passou por padronização - *StandardScale*;<br>\n",
    "Xts --> Base de dados tratada (X) que sofreu redução de dimensionalidade - PCA e passou por padronização - *StandardScale*.<br>"
   ]
  },
  {
   "cell_type": "markdown",
   "id": "34bfec47",
   "metadata": {},
   "source": [
    "### 2.4 - Aplicação do GridSearchCV no modelo SVM para classificação (algoritmo SVC)"
   ]
  },
  {
   "cell_type": "code",
   "execution_count": 66,
   "id": "83feb029",
   "metadata": {},
   "outputs": [],
   "source": [
    "# Algumas opções de funções kernel a serem testadas\n",
    "kernels = ['rbf','linear', 'poly', 'rbf', 'sigmoid']"
   ]
  },
  {
   "cell_type": "code",
   "execution_count": null,
   "id": "b163359a",
   "metadata": {},
   "outputs": [],
   "source": [
    "# Graus para a função kernal polinomial. Ignorado para os outros kernels\n",
    "#degree = [4, 5, 6]"
   ]
  },
  {
   "cell_type": "code",
   "execution_count": null,
   "id": "73297d09",
   "metadata": {},
   "outputs": [],
   "source": [
    "# Termo independente da função kernel. Só tem significado para os kernels poly e sigmoid\n",
    "#coef0 = [1, 2, 3, 4]"
   ]
  },
  {
   "cell_type": "code",
   "execution_count": 67,
   "id": "4d0f50bc",
   "metadata": {},
   "outputs": [],
   "source": [
    "# Algumas opções de valores para o hiperparâmetro C para serem testadas\n",
    "Cs = [1, 10, 100, 1000, 10000, 100000, 1000000]"
   ]
  },
  {
   "cell_type": "code",
   "execution_count": 68,
   "id": "f5eb827c",
   "metadata": {},
   "outputs": [],
   "source": [
    "# Algumas opções de valores para o hiperparâmetro gamma para serem testadas\n",
    "gammas = [1e-06, 1e-05, 0.0001, 0.001, 0.01, 0.1, 1, 10, 100, 1000]"
   ]
  },
  {
   "cell_type": "code",
   "execution_count": 69,
   "id": "0e6ba344",
   "metadata": {},
   "outputs": [],
   "source": [
    "# Hiperparâmetros que serão testados no algoritmo Grid Search\n",
    "params_list = [{'kernel': kernels, 'C': Cs, 'gamma': gammas}]#, 'degree': degree, 'coef0': coef0}]"
   ]
  },
  {
   "cell_type": "code",
   "execution_count": 70,
   "id": "6671dbd8",
   "metadata": {},
   "outputs": [
    {
     "name": "stdout",
     "output_type": "stream",
     "text": [
      "Fitting 10 folds for each of 350 candidates, totalling 3500 fits\n",
      "Melhores parâmetros: {'C': 1000, 'gamma': 0.001, 'kernel': 'rbf'}\n",
      "\n",
      "Fitting 10 folds for each of 350 candidates, totalling 3500 fits\n",
      "Melhores parâmetros: {'C': 100, 'gamma': 10, 'kernel': 'rbf'}\n",
      "\n",
      "Fitting 10 folds for each of 350 candidates, totalling 3500 fits\n",
      "Melhores parâmetros: {'C': 10000, 'gamma': 0.0001, 'kernel': 'rbf'}\n",
      "\n",
      "Fitting 10 folds for each of 350 candidates, totalling 3500 fits\n",
      "Melhores parâmetros: {'C': 100, 'gamma': 10, 'kernel': 'rbf'}\n",
      "\n",
      "Tempo: 10748.2 seg | Tempo: 179.13666666666668 min\n"
     ]
    }
   ],
   "source": [
    "# Armazena o tempo inicial da execução do bloco de código a seguir\n",
    "tiI = time.time()\n",
    "modelos = [] # Lista vazia que salvará alguns valores acerca do treinamento de cada variável (X, Xt, Xs, Xts)\n",
    "\n",
    "# Seleciona os dados com tratamentos diferentes\n",
    "for k, x in {'X': X, 'Xt': Xt, 'Xs': Xs, 'Xts': Xts}.items():\n",
    "    \n",
    "    # Configura o modelo SVC, o algoritmo Grid Search e instancia o algoritmo\n",
    "    model = GridSearchCV(svm.SVC(probability=True, cache_size = 2000, max_iter=100000, random_state=200), params_list, n_jobs=-1, \n",
    "                         verbose=1, scoring = 'accuracy', cv = 10)\n",
    "    \n",
    "    # Treina o algoritmo\n",
    "    model.fit(x, y)\n",
    "    \n",
    "    print('Melhores parâmetros: {0}\\n'.format(model.best_params_)) # Exibe os melhores hiperparams encontrados para o modelo\n",
    "    medias = model.cv_results_['mean_test_score'] # Médias de testes, uma para cada combinação de hiperparâmetro\n",
    "    ranks = model.cv_results_['rank_test_score'] # Ranks (posições) dos testes, uma para cada combinação de hiperparâmetro\n",
    "    desvios = model.cv_results_['std_test_score'] # Desvios-padrões de testes, uma para cada combinação de hiperparâmetro\n",
    "    params_set = model.cv_results_['params'] # Combinações de hiperparâmetros feitos pelo Grid Search\n",
    "    zipped = zip(ranks, medias, desvios, params_set) # Organiza os dados das variáveis anteriores em tuplas\n",
    "    sorted_zip = sorted(zipped, key=lambda x: x[0]) # Ordena as tuplas pelos ranks dos testes\n",
    "    \n",
    "    # Armazena a string SVM, tipo do tratamento dos dados para o tratamento, média, desvio-padrão e melhores hiperparâmetros\n",
    "    points = ['SVM', k, sorted_zip[0][1], sorted_zip[0][2], model.best_params_] \n",
    "    modelos.append(points) # Adiciona a lista \"points\" na lista modelos\n",
    "\n",
    "tiF = time.time() # Armazena o tempo final da execução do bloco de código anterior\n",
    "\n",
    "# Faz a conta tempo final (tiF) - tempo inicial (tiI) e exibe o resultado\n",
    "print(f'Tempo: {round(tiF-tiI, 1)} seg | Tempo: {round(tiF-tiI, 1)/60} min')"
   ]
  },
  {
   "cell_type": "markdown",
   "id": "011d4e92",
   "metadata": {},
   "source": [
    "**De cada execução de <font color='red'>GridSearchCV</font>, somente os melhores resultados de cada conjunto de treinamento são armazenados em um vetor para posterior comparação. O mesmo procedimento é aplicado utilizando o algoritmo <font color='red'>KNN</font> a seguir**"
   ]
  },
  {
   "cell_type": "markdown",
   "id": "ec5a4241",
   "metadata": {},
   "source": [
    "### 2.5 - Aplicação do GridSearchCV no modelo KNN para classificação (algoritmo KNeighborsClassifier)"
   ]
  },
  {
   "cell_type": "code",
   "execution_count": 71,
   "id": "f5137757",
   "metadata": {},
   "outputs": [],
   "source": [
    "# Métricas para os cálculos de distância entre as instâncias\n",
    "metrics = ['euclidean', 'manhattan', 'chebyshev', 'minkowski', 'wminkowski', 'seuclidean', 'mahalanobis']"
   ]
  },
  {
   "cell_type": "code",
   "execution_count": 72,
   "id": "3de0c0ef",
   "metadata": {},
   "outputs": [],
   "source": [
    "# Valores inteiros ímpares de 1 a 99 para testar o hiperparâmetro n° de vizinhos mais próximos\n",
    "nns = np.arange(1, 100, 2)"
   ]
  },
  {
   "cell_type": "code",
   "execution_count": 73,
   "id": "49981edd",
   "metadata": {},
   "outputs": [],
   "source": [
    "# 2 opções para o parâmetro power: 1 - Distância Manhattan; 2 - Distância Euclideana\n",
    "ps = [1, 2]"
   ]
  },
  {
   "cell_type": "code",
   "execution_count": 74,
   "id": "8ac3fc2a",
   "metadata": {},
   "outputs": [],
   "source": [
    "# Atribui pesos (ou não) aos pontos na vizinhança do ponto de consulta (instância a ser prevista)\n",
    "weights = ['uniform', 'distance']"
   ]
  },
  {
   "cell_type": "code",
   "execution_count": 75,
   "id": "887932f3",
   "metadata": {},
   "outputs": [],
   "source": [
    "# valores inteiros de 1 a 9 para testar a velocidade e a memória usada na construção do modelo\n",
    "leafs = np.arange(1, 10, 1)"
   ]
  },
  {
   "cell_type": "code",
   "execution_count": 76,
   "id": "726fde3a",
   "metadata": {},
   "outputs": [],
   "source": [
    "# Lista de parâmetros a serem testados no modelo KNN\n",
    "params_list = [{'metric': metrics, 'n_neighbors':nns, 'p': ps, 'leaf_size': leafs, 'weights': weights}]"
   ]
  },
  {
   "cell_type": "code",
   "execution_count": 77,
   "id": "d6e8daf6",
   "metadata": {},
   "outputs": [],
   "source": [
    "# Faz uma cópia da lista modelo\n",
    "modelosK = modelos.copy()"
   ]
  },
  {
   "cell_type": "code",
   "execution_count": 78,
   "id": "e02f451a",
   "metadata": {},
   "outputs": [
    {
     "name": "stdout",
     "output_type": "stream",
     "text": [
      "Fitting 10 folds for each of 12600 candidates, totalling 126000 fits\n",
      "Melhores parâmetros: {'leaf_size': 1, 'metric': 'manhattan', 'n_neighbors': 49, 'p': 1, 'weights': 'distance'}\n",
      "\n",
      "Fitting 10 folds for each of 12600 candidates, totalling 126000 fits\n",
      "Melhores parâmetros: {'leaf_size': 1, 'metric': 'euclidean', 'n_neighbors': 31, 'p': 1, 'weights': 'distance'}\n",
      "\n",
      "Fitting 10 folds for each of 12600 candidates, totalling 126000 fits\n",
      "Melhores parâmetros: {'leaf_size': 1, 'metric': 'chebyshev', 'n_neighbors': 1, 'p': 1, 'weights': 'uniform'}\n",
      "\n",
      "Fitting 10 folds for each of 12600 candidates, totalling 126000 fits\n",
      "Melhores parâmetros: {'leaf_size': 1, 'metric': 'euclidean', 'n_neighbors': 43, 'p': 1, 'weights': 'distance'}\n",
      "\n",
      "Tempo: 4096.2 seg | Tempo: 68.27 min\n"
     ]
    }
   ],
   "source": [
    "# Armazena o tempo inicial da execução do bloco de código a seguir\n",
    "tiI = time.time()\n",
    "for k, x in {'X': X, 'Xt': Xt, 'Xs': Xs, 'Xts': Xts}.items():\n",
    "    \n",
    "    # Configura o modelo KNN, o algoritmo Grid Search e instancia o algoritmo\n",
    "    model = GridSearchCV(KNeighborsClassifier(algorithm ='brute', n_jobs = -1), params_list, n_jobs=-1, \n",
    "                         verbose=1, scoring = 'accuracy', cv = 10)\n",
    "    \n",
    "    # Treina o algoritmo\n",
    "    model.fit(x, y)\n",
    "    \n",
    "    print('Melhores parâmetros: {0}\\n'.format(model.best_params_)) # Exibe os melhores hiperparams encontrados para o modelo\n",
    "    medias = model.cv_results_['mean_test_score'] # Médias de testes, uma para cada combinação de hiperparâmetro\n",
    "    ranks = model.cv_results_['rank_test_score'] # Ranks (posições) dos testes, uma para cada combinação de hiperparâmetro\n",
    "    desvios = model.cv_results_['std_test_score'] # Desvios-padrões de testes, uma para cada combinação de hiperparâmetro\n",
    "    params_set = model.cv_results_['params'] # Combinações de hiperparâmetros feitos pelo Grid Search\n",
    "    zipped = zip(ranks, medias, desvios, params_set) # Organiza os dados das variáveis anteriores em tuplas\n",
    "    sorted_zip = sorted(zipped, key=lambda x: x[0]) # Ordena as tuplas pelos ranks dos testes\n",
    "    \n",
    "    # Armazena a string KNN, tipo do tratamento dos dados para o tratamento, média, desvio-padrão e melhores hiperparâmetros\n",
    "    points = ['KNN', k, sorted_zip[0][1], sorted_zip[0][2], model.best_params_]\n",
    "    modelosK.append(points) # Adiciona a lista \"points\" na lista modelosK\n",
    "    \n",
    "tiF = time.time() # Armazena o tempo final da execução do bloco de código anterior\n",
    "\n",
    "# Faz a conta tempo final (tiF) - tempo inicial (tiI) e exibe o resultado\n",
    "print(f'Tempo: {round(tiF-tiI, 1)} seg | Tempo: {round(tiF-tiI, 1)/60} min')"
   ]
  },
  {
   "cell_type": "markdown",
   "id": "601402e0",
   "metadata": {},
   "source": [
    "**O KNN é treinado, utilizando somente o algoritmo <font color='red'>‘brute’</font> para garantir a melhor taxa de acerto ainda que os demais algoritmos disponíveis possam acelerar a convergência. Foram testadas diferentes <font color='red'>funções de distância</font> (metric) e <font color='red'>quantidades de vizinhos próximos</font> (n_neighbors).**"
   ]
  },
  {
   "cell_type": "code",
   "execution_count": 79,
   "id": "8ea9ad09",
   "metadata": {},
   "outputs": [
    {
     "data": {
      "text/html": [
       "<style type=\"text/css\">\n",
       "#T_a064b_row0_col4, #T_a064b_row1_col4, #T_a064b_row2_col4, #T_a064b_row3_col4, #T_a064b_row4_col4, #T_a064b_row5_col4, #T_a064b_row6_col4, #T_a064b_row7_col4 {\n",
       "  width: 300px;\n",
       "}\n",
       "</style>\n",
       "<table id=\"T_a064b\">\n",
       "  <thead>\n",
       "    <tr>\n",
       "      <th class=\"blank level0\" >&nbsp;</th>\n",
       "      <th id=\"T_a064b_level0_col0\" class=\"col_heading level0 col0\" >Algorit</th>\n",
       "      <th id=\"T_a064b_level0_col1\" class=\"col_heading level0 col1\" >Conj. Treinamento</th>\n",
       "      <th id=\"T_a064b_level0_col2\" class=\"col_heading level0 col2\" >Média</th>\n",
       "      <th id=\"T_a064b_level0_col3\" class=\"col_heading level0 col3\" >Desvio</th>\n",
       "      <th id=\"T_a064b_level0_col4\" class=\"col_heading level0 col4\" >Parâmetros</th>\n",
       "    </tr>\n",
       "  </thead>\n",
       "  <tbody>\n",
       "    <tr>\n",
       "      <th id=\"T_a064b_level0_row0\" class=\"row_heading level0 row0\" >0</th>\n",
       "      <td id=\"T_a064b_row0_col0\" class=\"data row0 col0\" >SVM</td>\n",
       "      <td id=\"T_a064b_row0_col1\" class=\"data row0 col1\" >X</td>\n",
       "      <td id=\"T_a064b_row0_col2\" class=\"data row0 col2\" >0.868982</td>\n",
       "      <td id=\"T_a064b_row0_col3\" class=\"data row0 col3\" >0.072871</td>\n",
       "      <td id=\"T_a064b_row0_col4\" class=\"data row0 col4\" >{'C': 1000, 'gamma': 0.001, 'kernel': 'rbf'}</td>\n",
       "    </tr>\n",
       "    <tr>\n",
       "      <th id=\"T_a064b_level0_row1\" class=\"row_heading level0 row1\" >1</th>\n",
       "      <td id=\"T_a064b_row1_col0\" class=\"data row1 col0\" >SVM</td>\n",
       "      <td id=\"T_a064b_row1_col1\" class=\"data row1 col1\" >Xs</td>\n",
       "      <td id=\"T_a064b_row1_col2\" class=\"data row1 col2\" >0.864462</td>\n",
       "      <td id=\"T_a064b_row1_col3\" class=\"data row1 col3\" >0.078899</td>\n",
       "      <td id=\"T_a064b_row1_col4\" class=\"data row1 col4\" >{'C': 10000, 'gamma': 0.0001, 'kernel': 'rbf'}</td>\n",
       "    </tr>\n",
       "    <tr>\n",
       "      <th id=\"T_a064b_level0_row2\" class=\"row_heading level0 row2\" >2</th>\n",
       "      <td id=\"T_a064b_row2_col0\" class=\"data row2 col0\" >KNN</td>\n",
       "      <td id=\"T_a064b_row2_col1\" class=\"data row2 col1\" >X</td>\n",
       "      <td id=\"T_a064b_row2_col2\" class=\"data row2 col2\" >0.832594</td>\n",
       "      <td id=\"T_a064b_row2_col3\" class=\"data row2 col3\" >0.080256</td>\n",
       "      <td id=\"T_a064b_row2_col4\" class=\"data row2 col4\" >{'leaf_size': 1, 'metric': 'manhattan', 'n_neighbors': 49, 'p': 1, 'weights': 'distance'}</td>\n",
       "    </tr>\n",
       "    <tr>\n",
       "      <th id=\"T_a064b_level0_row3\" class=\"row_heading level0 row3\" >3</th>\n",
       "      <td id=\"T_a064b_row3_col0\" class=\"data row3 col0\" >KNN</td>\n",
       "      <td id=\"T_a064b_row3_col1\" class=\"data row3 col1\" >Xt</td>\n",
       "      <td id=\"T_a064b_row3_col2\" class=\"data row3 col2\" >0.806188</td>\n",
       "      <td id=\"T_a064b_row3_col3\" class=\"data row3 col3\" >0.094561</td>\n",
       "      <td id=\"T_a064b_row3_col4\" class=\"data row3 col4\" >{'leaf_size': 1, 'metric': 'euclidean', 'n_neighbors': 31, 'p': 1, 'weights': 'distance'}</td>\n",
       "    </tr>\n",
       "    <tr>\n",
       "      <th id=\"T_a064b_level0_row4\" class=\"row_heading level0 row4\" >4</th>\n",
       "      <td id=\"T_a064b_row4_col0\" class=\"data row4 col0\" >KNN</td>\n",
       "      <td id=\"T_a064b_row4_col1\" class=\"data row4 col1\" >Xts</td>\n",
       "      <td id=\"T_a064b_row4_col2\" class=\"data row4 col2\" >0.799842</td>\n",
       "      <td id=\"T_a064b_row4_col3\" class=\"data row4 col3\" >0.098825</td>\n",
       "      <td id=\"T_a064b_row4_col4\" class=\"data row4 col4\" >{'leaf_size': 1, 'metric': 'euclidean', 'n_neighbors': 43, 'p': 1, 'weights': 'distance'}</td>\n",
       "    </tr>\n",
       "    <tr>\n",
       "      <th id=\"T_a064b_level0_row5\" class=\"row_heading level0 row5\" >5</th>\n",
       "      <td id=\"T_a064b_row5_col0\" class=\"data row5 col0\" >SVM</td>\n",
       "      <td id=\"T_a064b_row5_col1\" class=\"data row5 col1\" >Xt</td>\n",
       "      <td id=\"T_a064b_row5_col2\" class=\"data row5 col2\" >0.777973</td>\n",
       "      <td id=\"T_a064b_row5_col3\" class=\"data row5 col3\" >0.095993</td>\n",
       "      <td id=\"T_a064b_row5_col4\" class=\"data row5 col4\" >{'C': 100, 'gamma': 10, 'kernel': 'rbf'}</td>\n",
       "    </tr>\n",
       "    <tr>\n",
       "      <th id=\"T_a064b_level0_row6\" class=\"row_heading level0 row6\" >6</th>\n",
       "      <td id=\"T_a064b_row6_col0\" class=\"data row6 col0\" >SVM</td>\n",
       "      <td id=\"T_a064b_row6_col1\" class=\"data row6 col1\" >Xts</td>\n",
       "      <td id=\"T_a064b_row6_col2\" class=\"data row6 col2\" >0.776172</td>\n",
       "      <td id=\"T_a064b_row6_col3\" class=\"data row6 col3\" >0.102001</td>\n",
       "      <td id=\"T_a064b_row6_col4\" class=\"data row6 col4\" >{'C': 100, 'gamma': 10, 'kernel': 'rbf'}</td>\n",
       "    </tr>\n",
       "    <tr>\n",
       "      <th id=\"T_a064b_level0_row7\" class=\"row_heading level0 row7\" >7</th>\n",
       "      <td id=\"T_a064b_row7_col0\" class=\"data row7 col0\" >KNN</td>\n",
       "      <td id=\"T_a064b_row7_col1\" class=\"data row7 col1\" >Xs</td>\n",
       "      <td id=\"T_a064b_row7_col2\" class=\"data row7 col2\" >0.763570</td>\n",
       "      <td id=\"T_a064b_row7_col3\" class=\"data row7 col3\" >0.145534</td>\n",
       "      <td id=\"T_a064b_row7_col4\" class=\"data row7 col4\" >{'leaf_size': 1, 'metric': 'chebyshev', 'n_neighbors': 1, 'p': 1, 'weights': 'uniform'}</td>\n",
       "    </tr>\n",
       "  </tbody>\n",
       "</table>\n"
      ],
      "text/plain": [
       "<pandas.io.formats.style.Styler at 0x1bc0b856b20>"
      ]
     },
     "execution_count": 79,
     "metadata": {},
     "output_type": "execute_result"
    }
   ],
   "source": [
    "# Cria um dataframe com os dados da lista ModelosK\n",
    "df = pd.DataFrame(data = modelosK, columns = ['Algorit', 'Conj. Treinamento', 'Média', 'Desvio', 'Parâmetros'])\n",
    "\n",
    "# Ordena as linhas pelo valor da média\n",
    "df.sort_values(by = 'Média', ascending = False, inplace = True)\n",
    "\n",
    "# Reseta os índices do dataframe\n",
    "df.reset_index(drop = True, inplace = True)\n",
    "\n",
    "# Aumenta a largura das colunas do dataframe para exibição\n",
    "df.style.set_properties(subset=['Parâmetros'], **{'width': '300px'})"
   ]
  },
  {
   "cell_type": "markdown",
   "id": "f9dd6b50",
   "metadata": {},
   "source": [
    "### <font color='red'>Conclusões</font> (revisar):"
   ]
  },
  {
   "cell_type": "markdown",
   "id": "adf9ff48",
   "metadata": {},
   "source": [
    "**Pode-se notar que tanto o algoritmo SVM para classificação (<font color='red'>SVC</font>) quanto o <font color='red'>KNN</font> apresentaram bons resultados - <font color='red'>KNN</font> com máximo score médio de <font color='green'>83.25%</font> x <font color='red'>SVC</font> com <font color='green'>86.90%</font>;**\n",
    "<br><br>\n",
    "**Ambos os algoritmos apresentaram melhores resultados para o treinamento com a base de dados original apenas tratada (<font color='green'>X</font>);**\n",
    "<br><br>\n",
    "**Para todos os casos de teste do modelo <font color='red'>SVC</font> apresentados no dataframe df, a função *kernel* de base radial (<font color='green'>RBF</font>) foi <font color='red'>superior</font> as demais funções. Já no caso do modelo <font color='red'>KNN</font>, a métrica para o cálculo da distância entre as instâncias que apresentou melhores resultados foi a <font color='green'>Manhattan</font>;**\n",
    "<br><br>\n",
    "**O modelo <font color='red'>KNN</font>, teve o melhor desempenho com um número de <font color='green'>49 vizinhos mais próximos</font>;**\n",
    "<br><br>\n",
    "**Quando os dados <font color='green'>Xs</font> são usados para o treinamento do modelo <font color='red'>SVC</font>, o hiperparâmetro <font color='green'>C</font> apresenta um valor <font color='red'>maior</font> e o hiperparâmetro <font color='green'>gamma</font> apresenta um valor <font color='blue'>menor</font>, quando comparados aos valores desses hiperparâmetros apresentados pelo modelo treinado com os dados <font color='green'>X</font>, <font color='green'>Xt</font> e <font color='green'>Xts</font>. Isso mostra que o modelo no primeiro caso (C maior e gamma menor) utilizou uma margem menor e buscou por soluções menos especializadas. A causa para a necessidade do modelo <font color='red'>SVC</font> utilizar valores <font color='blue'>menores</font> para <font color='green'>C</font> e <font color='red'>maiores</font> para o <font color='green'>gamma</font> durante o treinamento com os dados <font color='green'>Xt</font> e <font color='green'>Xts</font>, está no impacto da <font color='red'>diferença de escala entre os atributos</font>, necessitando de uma <font color='red'>margem maior</font> para esses dados e de uma solução mais especializada, tendendo à superadaptação (*overfitting*).**"
   ]
  },
  {
   "cell_type": "markdown",
   "id": "fe28c87e",
   "metadata": {},
   "source": [
    "## 3 - Seleção do modelo de aprendizagem supervisionada"
   ]
  },
  {
   "cell_type": "markdown",
   "id": "ed526d83",
   "metadata": {},
   "source": [
    "**Embora ambos os algoritmos de classificação façam previsões não probabilísticas, eles possuem funções incluídas na biblioteca SciKit-Learn para estimar a probabilidade de uma instância pertencer ou não a uma determinada classe.**\n",
    "<br><br>\n",
    "**A classe SVC (pertencente ao algoritmo SVM) possui a função <font color='red'>predict_proba</font>  que retorna a probabilidade da instância pertencer a cada uma das classes. Algo similar está presente na classe KNN.**\n",
    "<br><br>\n",
    "**A taxa de acerto dos modelos classificadores pode ser medida por meio da matriz de confusão ou da curva ROC e área AUC.**\n",
    "<br><br>\n",
    "**É recomendável o uso da técnica de validação cruzada (K-Fold) para avaliação do desempenho dos classificadores que estão sendo comparados, onde aplica-se cada classificador a diferentes conjuntos de treinamento e teste para obter valores médios de desempenho e desvio-padrão. Essa prática aumenta a confiabilidade nos resultados dos classificadores, diminuindo o impacto de possíveis amostragens que favoreçam um ou outro algoritmo.**"
   ]
  },
  {
   "cell_type": "markdown",
   "id": "36912bf2",
   "metadata": {},
   "source": [
    "### 3.1 - Validação cruzada usando K-Fold, os melhores parâmetros e a métrica de avaliação - curva ROC-AUC "
   ]
  },
  {
   "cell_type": "code",
   "execution_count": 98,
   "id": "7fa76516",
   "metadata": {},
   "outputs": [],
   "source": [
    "# Acessa os melhores hiperparâmetros: um para o SVM para classificação (SVC) e outro para o KNN, respectivamente\n",
    "svmp = df[df['Algorit'] == 'SVM'].reset_index()['Parâmetros'][0]\n",
    "kmp = df[df['Algorit'] == 'KNN'].reset_index()['Parâmetros'][0]"
   ]
  },
  {
   "cell_type": "code",
   "execution_count": 100,
   "id": "0623b545",
   "metadata": {},
   "outputs": [
    {
     "data": {
      "image/png": "[encoded data removed]",
      "text/plain": [
       "<Figure size 864x576 with 2 Axes>"
      ]
     },
     "metadata": {
      "needs_background": "light"
     },
     "output_type": "display_data"
    }
   ],
   "source": [
    "# Valores usados para identificar os subconjuntos de dados gerados pela validação cruzada (classe KFold)\n",
    "i = 0\n",
    "j = 0\n",
    "\n",
    "# Listas para armazenar os subconjuntos de treinamento e teste gerados pela classe KFold\n",
    "Xy_svm_1 = [None, None, None, None]\n",
    "Xy_svm_2 = [None, None, None, None]\n",
    "\n",
    "Xy_knn_1 = [None, None, None, None]\n",
    "Xy_knn_2 = [None, None, None, None]\n",
    "\n",
    "fig, axes = plt.subplots(1,2, figsize=(12,8)) # Configura uma figura com subplots\n",
    "\n",
    "# Configura um título para a figura\n",
    "fig.suptitle('Curvas ROC para 10 diferentes conjuntos de treino/teste - algoritmos SVC (à esquerda) e KNN (à direita)', \n",
    "             fontdict = {'family':'Arial','color':'black'}, fontsize = 16, ha = 'center', va = 'center')\n",
    "\n",
    "kf = KFold(n_splits=10, shuffle=True, random_state=200) # Configura o algoritmo KFold\n",
    "\n",
    "# Seleciona cada grupo de dados (k-fold) -> 10, ao todo\n",
    "for treino_i, teste_i in kf.split(X):\n",
    "    X_treino, X_teste = X.iloc[treino_i, :], X.iloc[teste_i, :] # Dados X_treino e X_teste obtidos por meio do K-fold\n",
    "    y_treino, y_teste = y[treino_i], y[teste_i] # Dados y_treino e y_teste obtidos por meio do K-fold\n",
    "    \n",
    "    svmm = svm.SVC(C=svmp['C'], gamma=svmp['gamma'], kernel=svmp['kernel'], # Config e instancia o algoritmo SVC\n",
    "                   probability=True, max_iter=1000000, random_state=200).fit(X_treino, y_treino)\n",
    "    \n",
    "    # Condições para salvar os subconjuntos de treino e teste gerados pelo KFold que resultaram em melhores curvas ROC\n",
    "        \n",
    "    if i == 3:\n",
    "        \n",
    "        Xy_svm_1[0] = X_treino\n",
    "        Xy_svm_1[1] = X_teste\n",
    "        Xy_svm_1[2] = y_treino\n",
    "        Xy_svm_1[3] = y_teste\n",
    "        \n",
    "    elif j == 6:\n",
    "        \n",
    "        Xy_knn_1[0] = X_treino\n",
    "        Xy_knn_1[1] = X_teste\n",
    "        Xy_knn_1[2] = y_treino\n",
    "        Xy_knn_1[3] = y_teste\n",
    "        \n",
    "    elif i == 8 and j == 8:\n",
    "        \n",
    "        Xy_svm_2[0] = Xy_knn_2[0] = X_treino\n",
    "        Xy_svm_2[1] = Xy_knn_2[1] = X_teste\n",
    "        Xy_svm_2[2] = Xy_knn_2[2] = y_treino\n",
    "        Xy_svm_2[3] = Xy_knn_2[3] = y_teste\n",
    "        \n",
    "    \n",
    "        \n",
    "    \n",
    "    # Plota as 10 curvas ROC para o SVC\n",
    "    RocCurveDisplay.from_estimator(svmm, X_teste, y_teste, ax=axes[0], name = f'SVC - {i}')\n",
    "    i += 1\n",
    "    \n",
    "    # Config e instancia o algoritmo KNN\n",
    "    kmm = KNeighborsClassifier(algorithm='brute', metric=kmp['metric'], n_neighbors=kmp['n_neighbors']).fit(X_treino, y_treino)    \n",
    "    \n",
    "    # Plota as 10 curvas ROC para o KNN \n",
    "    RocCurveDisplay.from_estimator(kmm, X_teste, y_teste, ax=axes[1], name = f'KNN - {j}')    \n",
    "    j += 1"
   ]
  },
  {
   "cell_type": "markdown",
   "id": "ba304262",
   "metadata": {},
   "source": [
    "**Os mesmos subconjuntos (ou grupos de dados) de teste e treinamento foram aplicados a cada algoritmo na mesma ordem, sendo possível perceber a diferença de adaptação entre eles.** \n",
    "<br><br>\n",
    "**Os melhores desempenhos foram obtidos pelo 3° e 7° subconjunto para o algoritmo SVC (AUC = 0,96) e pelo 6° subconjunto para o KNN (AUC = 0,95).**\n",
    "<br><br>\n",
    "**Os piores desempenhos foram obtidos pelo 8° subconjunto para o algoritmo SVC (AUC = 0,87) e também pelo 8° subconjunto para o KNN (AUC = 0,81).**\n",
    "<br><br>\n",
    "**A curva ROC <font color='red'>vermelha</font> do algoritmo SVC possui AUC de 0.96, mas com um desempenho melhor de classificação para valores de sensibilidade de até aproximadamente 80%. Já a curva ROC <font color='red'>vermelha</font> para o algoritmo KNN possui AUC de 0.94, mas que desempenha melhor em valores de sensibilidade de até próximo de 60%.**\n",
    "<br><br>\n",
    "**Pode-se verificar que, pelas 2 melhores curvas ROC (uma para o SVC e outra para o KNN), a melhor performance é do algoritmo SVC.**"
   ]
  },
  {
   "cell_type": "markdown",
   "id": "fb024844",
   "metadata": {},
   "source": [
    "### 3.2 - Teste de acurácia para as <font color='red'>melhores</font> parametrizações e para o conjunto de dados de treino e teste que gera <font color='red'>maior</font> valor de AUC"
   ]
  },
  {
   "cell_type": "code",
   "execution_count": 101,
   "id": "aaaa6b32",
   "metadata": {},
   "outputs": [],
   "source": [
    "# Config e instancia o algoritmo SVC\n",
    "s = svm.SVC(C=svmp['C'], gamma=svmp['gamma'], kernel=svmp['kernel'], probability=True, \n",
    "               max_iter=10000000, random_state=200).fit(Xy_svm_1[0], Xy_svm_1[2])"
   ]
  },
  {
   "cell_type": "code",
   "execution_count": 102,
   "id": "b84438f7",
   "metadata": {},
   "outputs": [],
   "source": [
    "# Faz as previsões com os dados X_teste, usando o SVC treinado\n",
    "prevsS = s.predict(Xy_svm_1[1])"
   ]
  },
  {
   "cell_type": "code",
   "execution_count": 103,
   "id": "92153c28",
   "metadata": {},
   "outputs": [],
   "source": [
    "# Config e instancia o algoritmo KNN\n",
    "k = KNeighborsClassifier(algorithm='brute', metric=kmp['metric'], n_neighbors=kmp['n_neighbors']).fit(Xy_knn_1[0], Xy_knn_1[2])"
   ]
  },
  {
   "cell_type": "code",
   "execution_count": 104,
   "id": "c946938f",
   "metadata": {},
   "outputs": [],
   "source": [
    "# Faz as previsões com os dados X_teste, usando o KNN treinado\n",
    "prevsK = k.predict(Xy_knn_1[1])"
   ]
  },
  {
   "cell_type": "code",
   "execution_count": 105,
   "id": "a5b1e573",
   "metadata": {},
   "outputs": [
    {
     "data": {
      "text/plain": [
       "0.8454545454545455"
      ]
     },
     "metadata": {},
     "output_type": "display_data"
    }
   ],
   "source": [
    "# Exibe o accuracy score para o KNN\n",
    "display(accuracy_score(Xy_knn_1[3], prevsK))"
   ]
  },
  {
   "cell_type": "code",
   "execution_count": 106,
   "id": "1c7f692e",
   "metadata": {},
   "outputs": [
    {
     "data": {
      "text/html": [
       "<div>\n",
       "<style scoped>\n",
       "    .dataframe tbody tr th:only-of-type {\n",
       "        vertical-align: middle;\n",
       "    }\n",
       "\n",
       "    .dataframe tbody tr th {\n",
       "        vertical-align: top;\n",
       "    }\n",
       "\n",
       "    .dataframe thead th {\n",
       "        text-align: right;\n",
       "    }\n",
       "</style>\n",
       "<table border=\"1\" class=\"dataframe\">\n",
       "  <thead>\n",
       "    <tr style=\"text-align: right;\">\n",
       "      <th>Predicted</th>\n",
       "      <th>0</th>\n",
       "      <th>1</th>\n",
       "      <th>All</th>\n",
       "    </tr>\n",
       "    <tr>\n",
       "      <th>Real</th>\n",
       "      <th></th>\n",
       "      <th></th>\n",
       "      <th></th>\n",
       "    </tr>\n",
       "  </thead>\n",
       "  <tbody>\n",
       "    <tr>\n",
       "      <th>0</th>\n",
       "      <td>48</td>\n",
       "      <td>9</td>\n",
       "      <td>57</td>\n",
       "    </tr>\n",
       "    <tr>\n",
       "      <th>1</th>\n",
       "      <td>8</td>\n",
       "      <td>45</td>\n",
       "      <td>53</td>\n",
       "    </tr>\n",
       "    <tr>\n",
       "      <th>All</th>\n",
       "      <td>56</td>\n",
       "      <td>54</td>\n",
       "      <td>110</td>\n",
       "    </tr>\n",
       "  </tbody>\n",
       "</table>\n",
       "</div>"
      ],
      "text/plain": [
       "Predicted   0   1  All\n",
       "Real                  \n",
       "0          48   9   57\n",
       "1           8  45   53\n",
       "All        56  54  110"
      ]
     },
     "execution_count": 106,
     "metadata": {},
     "output_type": "execute_result"
    }
   ],
   "source": [
    "# Tabela da Matriz de Confusão - KNN\n",
    "pd.crosstab(Xy_knn_1[3], prevsK, rownames=['Real'], colnames=['Predicted'], margins=True)"
   ]
  },
  {
   "cell_type": "code",
   "execution_count": 107,
   "id": "0805fb00",
   "metadata": {},
   "outputs": [
    {
     "data": {
      "text/plain": [
       "0.9181818181818182"
      ]
     },
     "metadata": {},
     "output_type": "display_data"
    }
   ],
   "source": [
    "# Exibe o accuracy score para o SVC\n",
    "display(accuracy_score(Xy_svm_1[3], prevsS))"
   ]
  },
  {
   "cell_type": "code",
   "execution_count": 108,
   "id": "6b85d388",
   "metadata": {},
   "outputs": [
    {
     "data": {
      "text/html": [
       "<div>\n",
       "<style scoped>\n",
       "    .dataframe tbody tr th:only-of-type {\n",
       "        vertical-align: middle;\n",
       "    }\n",
       "\n",
       "    .dataframe tbody tr th {\n",
       "        vertical-align: top;\n",
       "    }\n",
       "\n",
       "    .dataframe thead th {\n",
       "        text-align: right;\n",
       "    }\n",
       "</style>\n",
       "<table border=\"1\" class=\"dataframe\">\n",
       "  <thead>\n",
       "    <tr style=\"text-align: right;\">\n",
       "      <th>Predicted</th>\n",
       "      <th>0</th>\n",
       "      <th>1</th>\n",
       "      <th>All</th>\n",
       "    </tr>\n",
       "    <tr>\n",
       "      <th>Real</th>\n",
       "      <th></th>\n",
       "      <th></th>\n",
       "      <th></th>\n",
       "    </tr>\n",
       "  </thead>\n",
       "  <tbody>\n",
       "    <tr>\n",
       "      <th>0</th>\n",
       "      <td>46</td>\n",
       "      <td>4</td>\n",
       "      <td>50</td>\n",
       "    </tr>\n",
       "    <tr>\n",
       "      <th>1</th>\n",
       "      <td>5</td>\n",
       "      <td>55</td>\n",
       "      <td>60</td>\n",
       "    </tr>\n",
       "    <tr>\n",
       "      <th>All</th>\n",
       "      <td>51</td>\n",
       "      <td>59</td>\n",
       "      <td>110</td>\n",
       "    </tr>\n",
       "  </tbody>\n",
       "</table>\n",
       "</div>"
      ],
      "text/plain": [
       "Predicted   0   1  All\n",
       "Real                  \n",
       "0          46   4   50\n",
       "1           5  55   60\n",
       "All        51  59  110"
      ]
     },
     "execution_count": 108,
     "metadata": {},
     "output_type": "execute_result"
    }
   ],
   "source": [
    "# Tabela da Matriz de Confusão - SVC\n",
    "pd.crosstab(Xy_svm_1[3], prevsS, rownames=['Real'], colnames=['Predicted'], margins=True)"
   ]
  },
  {
   "cell_type": "markdown",
   "id": "26a82007",
   "metadata": {},
   "source": [
    "**Os resultados mostram que o <font color='red'>SVC</font> demonstrou ser um classificador <font color='red'>melhor</font> para o conjunto Titanic, apresentando uma acurácia de <font color='green'>91.82%</font> contra <font color='green'>84.54%</font> do <font color='red'>KNN</font>**"
   ]
  },
  {
   "cell_type": "markdown",
   "id": "e7923503",
   "metadata": {},
   "source": [
    "### 3.3 - Teste de acurácia para as <font color='red'>melhores</font> parametrizações e para o conjunto de dados de treino e teste que gera <font color='green'>menor</font> valor de AUC"
   ]
  },
  {
   "cell_type": "code",
   "execution_count": 109,
   "id": "e15a6f0f",
   "metadata": {},
   "outputs": [],
   "source": [
    "# Config e instancia o algoritmo SVC\n",
    "s = svm.SVC(C=svmp['C'], gamma=svmp['gamma'], kernel=svmp['kernel'], probability=True, \n",
    "               max_iter=10000000, random_state=200).fit(Xy_svm_2[0], Xy_svm_2[2])"
   ]
  },
  {
   "cell_type": "code",
   "execution_count": 110,
   "id": "f49923e1",
   "metadata": {},
   "outputs": [],
   "source": [
    "# Faz as previsões com os dados X_teste, usando o SVC treinado\n",
    "prevsS = s.predict(Xy_svm_2[1])"
   ]
  },
  {
   "cell_type": "code",
   "execution_count": 111,
   "id": "1bd789d3",
   "metadata": {},
   "outputs": [],
   "source": [
    "# Config e instancia o algoritmo KNN\n",
    "k = KNeighborsClassifier(algorithm='brute', metric=kmp['metric'], n_neighbors=kmp['n_neighbors']).fit(Xy_knn_2[0], Xy_knn_2[2])"
   ]
  },
  {
   "cell_type": "code",
   "execution_count": 112,
   "id": "e7af2f4a",
   "metadata": {},
   "outputs": [],
   "source": [
    "# Faz as previsões com os dados X_teste, usando o KNN treinado\n",
    "prevsK = k.predict(Xy_knn_2[1])"
   ]
  },
  {
   "cell_type": "code",
   "execution_count": 113,
   "id": "669b64a7",
   "metadata": {},
   "outputs": [
    {
     "data": {
      "text/plain": [
       "0.7431192660550459"
      ]
     },
     "metadata": {},
     "output_type": "display_data"
    }
   ],
   "source": [
    "# Exibe o accuracy score para o KNN\n",
    "display(accuracy_score(Xy_knn_2[3], prevsK))"
   ]
  },
  {
   "cell_type": "code",
   "execution_count": 114,
   "id": "4adf31be",
   "metadata": {},
   "outputs": [
    {
     "data": {
      "text/html": [
       "<div>\n",
       "<style scoped>\n",
       "    .dataframe tbody tr th:only-of-type {\n",
       "        vertical-align: middle;\n",
       "    }\n",
       "\n",
       "    .dataframe tbody tr th {\n",
       "        vertical-align: top;\n",
       "    }\n",
       "\n",
       "    .dataframe thead th {\n",
       "        text-align: right;\n",
       "    }\n",
       "</style>\n",
       "<table border=\"1\" class=\"dataframe\">\n",
       "  <thead>\n",
       "    <tr style=\"text-align: right;\">\n",
       "      <th>Predicted</th>\n",
       "      <th>0</th>\n",
       "      <th>1</th>\n",
       "      <th>All</th>\n",
       "    </tr>\n",
       "    <tr>\n",
       "      <th>Real</th>\n",
       "      <th></th>\n",
       "      <th></th>\n",
       "      <th></th>\n",
       "    </tr>\n",
       "  </thead>\n",
       "  <tbody>\n",
       "    <tr>\n",
       "      <th>0</th>\n",
       "      <td>45</td>\n",
       "      <td>10</td>\n",
       "      <td>55</td>\n",
       "    </tr>\n",
       "    <tr>\n",
       "      <th>1</th>\n",
       "      <td>18</td>\n",
       "      <td>36</td>\n",
       "      <td>54</td>\n",
       "    </tr>\n",
       "    <tr>\n",
       "      <th>All</th>\n",
       "      <td>63</td>\n",
       "      <td>46</td>\n",
       "      <td>109</td>\n",
       "    </tr>\n",
       "  </tbody>\n",
       "</table>\n",
       "</div>"
      ],
      "text/plain": [
       "Predicted   0   1  All\n",
       "Real                  \n",
       "0          45  10   55\n",
       "1          18  36   54\n",
       "All        63  46  109"
      ]
     },
     "execution_count": 114,
     "metadata": {},
     "output_type": "execute_result"
    }
   ],
   "source": [
    "# Tabela da Matriz de Confusão - KNN\n",
    "pd.crosstab(Xy_knn_2[3], prevsK, rownames=['Real'], colnames=['Predicted'], margins=True)"
   ]
  },
  {
   "cell_type": "code",
   "execution_count": 115,
   "id": "0c1cc94e",
   "metadata": {},
   "outputs": [
    {
     "data": {
      "text/plain": [
       "0.8073394495412844"
      ]
     },
     "metadata": {},
     "output_type": "display_data"
    }
   ],
   "source": [
    "# Exibe o accuracy score para o SVC\n",
    "display(accuracy_score(Xy_svm_2[3], prevsS))"
   ]
  },
  {
   "cell_type": "code",
   "execution_count": 116,
   "id": "c903472b",
   "metadata": {},
   "outputs": [
    {
     "data": {
      "text/html": [
       "<div>\n",
       "<style scoped>\n",
       "    .dataframe tbody tr th:only-of-type {\n",
       "        vertical-align: middle;\n",
       "    }\n",
       "\n",
       "    .dataframe tbody tr th {\n",
       "        vertical-align: top;\n",
       "    }\n",
       "\n",
       "    .dataframe thead th {\n",
       "        text-align: right;\n",
       "    }\n",
       "</style>\n",
       "<table border=\"1\" class=\"dataframe\">\n",
       "  <thead>\n",
       "    <tr style=\"text-align: right;\">\n",
       "      <th>Predicted</th>\n",
       "      <th>0</th>\n",
       "      <th>1</th>\n",
       "      <th>All</th>\n",
       "    </tr>\n",
       "    <tr>\n",
       "      <th>Real</th>\n",
       "      <th></th>\n",
       "      <th></th>\n",
       "      <th></th>\n",
       "    </tr>\n",
       "  </thead>\n",
       "  <tbody>\n",
       "    <tr>\n",
       "      <th>0</th>\n",
       "      <td>46</td>\n",
       "      <td>9</td>\n",
       "      <td>55</td>\n",
       "    </tr>\n",
       "    <tr>\n",
       "      <th>1</th>\n",
       "      <td>12</td>\n",
       "      <td>42</td>\n",
       "      <td>54</td>\n",
       "    </tr>\n",
       "    <tr>\n",
       "      <th>All</th>\n",
       "      <td>58</td>\n",
       "      <td>51</td>\n",
       "      <td>109</td>\n",
       "    </tr>\n",
       "  </tbody>\n",
       "</table>\n",
       "</div>"
      ],
      "text/plain": [
       "Predicted   0   1  All\n",
       "Real                  \n",
       "0          46   9   55\n",
       "1          12  42   54\n",
       "All        58  51  109"
      ]
     },
     "execution_count": 116,
     "metadata": {},
     "output_type": "execute_result"
    }
   ],
   "source": [
    "# Tabela da Matriz de Confusão - SVC\n",
    "pd.crosstab(Xy_svm_2[3], prevsS, rownames=['Real'], colnames=['Predicted'], margins=True)"
   ]
  },
  {
   "cell_type": "markdown",
   "id": "1b09c9d6",
   "metadata": {},
   "source": [
    "**Os resultados mostram que o <font color='red'>SVC</font> também apresentou um melhor valor de acurácia para esse caso, sendo <font color='green'>80.73%</font> contra <font color='green'>74.31%</font> do <font color='red'>KNN</font>**"
   ]
  },
  {
   "cell_type": "markdown",
   "id": "9d18a02d",
   "metadata": {},
   "source": [
    "**Pode-se concluir que os valores de acurácia, da área AUC e a forma da curva ROC variam com os subconjuntos de dados gerados pela classe KFold. Isso leva ao entendimento de que a aleatoriedade na seleção dos dados influencia nas respostas dos modelos, tanto na fase de treinamento quanto na fase de testes.**"
   ]
  },
  {
   "cell_type": "code",
   "execution_count": null,
   "id": "9949af60",
   "metadata": {},
   "outputs": [],
   "source": []
  }
 ],
 "metadata": {
  "kernelspec": {
   "display_name": "Python 3 (ipykernel)",
   "language": "python",
   "name": "python3"
  },
  "language_info": {
   "codemirror_mode": {
    "name": "ipython",
    "version": 3
   },
   "file_extension": ".py",
   "mimetype": "text/x-python",
   "name": "python",
   "nbconvert_exporter": "python",
   "pygments_lexer": "ipython3",
   "version": "3.9.12"
  }
 },
 "nbformat": 4,
 "nbformat_minor": 5
}
